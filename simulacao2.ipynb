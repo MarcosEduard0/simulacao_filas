{
 "cells": [
  {
   "cell_type": "code",
   "execution_count": 599,
   "metadata": {},
   "outputs": [],
   "source": [
    "import numpy as np\n",
    "import pandas as pd"
   ]
  },
  {
   "cell_type": "code",
   "execution_count": 600,
   "metadata": {},
   "outputs": [],
   "source": [
    "total_simulation_time = 12000\n",
    "mean_arrival_time = 1\n",
    "mean_departure_time = 2"
   ]
  },
  {
   "cell_type": "code",
   "execution_count": 601,
   "metadata": {},
   "outputs": [
    {
     "name": "stdout",
     "output_type": "stream",
     "text": [
      "\n",
      "Total de pessoas que foram ao banco na simulação: 8034\n",
      "Número de pessoas na fila ao final da simulação: 1\n",
      "Tempo total da simulação: 12000.3202\n",
      "Tempo médio de espera na fila: 1.0344\n"
     ]
    }
   ],
   "source": [
    "\n",
    "#print(\"\\nTempo de chegada | Tipo de evento | Número de amostras\\n\")\n",
    "\n",
    "n = 0\n",
    "simul_time = 0\n",
    "data = []\n",
    "number_of_arrivals = 0\n",
    "\n",
    "# initialize event queue\n",
    "queue = []\n",
    "queue.append([simul_time, np.random.exponential(scale=1/mean_arrival_time), \"Chegada\"])\n",
    "\n",
    "# To calculate waiting line mean time\n",
    "arrivals = []\n",
    "waiting_line_time = 0\n",
    "\n",
    "while(simul_time < total_simulation_time):\n",
    "    arrival_time = np.random.exponential(scale=1/mean_arrival_time)\n",
    "    departure_time = np.random.exponential(scale=1/mean_departure_time)\n",
    "\n",
    "    event = queue.pop(0)\n",
    "\n",
    "    if event[2] == \"Chegada\":\n",
    "        simul_time += event[1]\n",
    "        #print(f\"{simul_time:8.4f} \\t\\t{'Chegada':14} {n:2} => {n+1:2}\")\n",
    "        data.append([f\"{simul_time:8.4f}\", f\"{'Chegada'}\", f\"{n}\", f\"{n+1}\"])\n",
    "        queue.append([simul_time + arrival_time, arrival_time, \"Chegada\"])\n",
    "        n += 1\n",
    "        number_of_arrivals += 1\n",
    "\n",
    "        if (n == 1):\n",
    "            queue.append([simul_time + departure_time, departure_time, \"Saída\"])\n",
    "\n",
    "        if (n > 1):\n",
    "            arrivals.append(simul_time)\n",
    "    else:\n",
    "        simul_time += event[1]\n",
    "        if (len(arrivals) > 0):\n",
    "            waiting_line_time += simul_time - arrivals[0]\n",
    "            arrivals.pop(0)\n",
    "        \n",
    "        #print(f\"{simul_time:8.4f} \\t\\t{'Saída':14} {n:2} => {n-1:2}\")\n",
    "        data.append([f\"{simul_time:8.4f}\", f\"{'Saída'}\", f\"{n}\", f\"{n+1}\"])\n",
    "        \n",
    "        n -= 1\n",
    "        if (n > 0):\n",
    "            queue.append([simul_time + departure_time, departure_time, \"Saída\"])\n",
    "    \n",
    "    queue.sort()\n",
    "    #print(queue)\n",
    "\n",
    "print(f\"\\nTotal de pessoas que foram ao banco na simulação: {number_of_arrivals}\")\n",
    "print(f\"Número de pessoas na fila ao final da simulação: {n}\")\n",
    "print(f\"Tempo total da simulação: {simul_time:.4f}\")\n",
    "print(f\"Tempo médio de espera na fila: {(waiting_line_time/number_of_arrivals):.4f}\")\n"
   ]
  }
 ],
 "metadata": {
  "kernelspec": {
   "display_name": "Python 3",
   "language": "python",
   "name": "python3"
  },
  "language_info": {
   "codemirror_mode": {
    "name": "ipython",
    "version": 3
   },
   "file_extension": ".py",
   "mimetype": "text/x-python",
   "name": "python",
   "nbconvert_exporter": "python",
   "pygments_lexer": "ipython3",
   "version": "3.9.13"
  },
  "orig_nbformat": 4
 },
 "nbformat": 4,
 "nbformat_minor": 2
}
