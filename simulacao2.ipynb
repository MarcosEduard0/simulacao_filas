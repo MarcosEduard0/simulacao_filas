{
 "cells": [
  {
   "cell_type": "code",
   "execution_count": 642,
   "metadata": {},
   "outputs": [],
   "source": [
    "import numpy as np\n",
    "import math\n",
    "import scipy.stats as st\n",
    "import plotly.express as px"
   ]
  },
  {
   "cell_type": "code",
   "execution_count": 643,
   "metadata": {},
   "outputs": [],
   "source": [
    "def simulador(simulation_total_time, mean_arrival_time, mean_departure_time):\n",
    "    n, number_of_arrivals, waiting_line_time, system_spent_time, clients_in_system, clients_in_line, last_event_time = 0, 0, 0, 0, 0, 0, 0\n",
    "    queue, line_queue, arrivals, event = [], [], [], [0,\"\"]\n",
    "    queue.append([np.random.exponential(scale=1/mean_arrival_time), \"Chegada\"])\n",
    "    while(event[0] < simulation_total_time):\n",
    "        last_event_time, event = event[0], queue.pop(0)\n",
    "        clients_in_system, clients_in_line = clients_in_system + ((event[0]-last_event_time) * n), clients_in_line + ((event[0]-last_event_time) * len (line_queue))\n",
    "        if event[1] == \"Chegada\": \n",
    "            queue.append([event[0] + np.random.exponential(scale=1/mean_arrival_time), \"Chegada\"])\n",
    "            arrivals.append(event[0])\n",
    "            n, number_of_arrivals = n + 1, number_of_arrivals + 1\n",
    "            if (n == 1):\n",
    "                queue.append([event[0] + np.random.exponential(scale=1/mean_departure_time), \"Saída\"])\n",
    "            if (n > 1):\n",
    "                line_queue.append(event[0])\n",
    "        else:\n",
    "            if (len(line_queue) > 0):\n",
    "                waiting_line_time += event[0] - line_queue.pop(0)\n",
    "            n, system_spent_time = n - 1, system_spent_time + (event[0] - arrivals.pop(0)) \n",
    "            if (n > 0):\n",
    "                queue.append([event[0] + np.random.exponential(scale=1/mean_departure_time), \"Saída\"])\n",
    "        queue.sort()\n",
    "    return n, event[0], waiting_line_time/number_of_arrivals, system_spent_time/number_of_arrivals, number_of_arrivals, clients_in_system/simulation_total_time, clients_in_line/simulation_total_time"
   ]
  },
  {
   "cell_type": "code",
   "execution_count": 644,
   "metadata": {},
   "outputs": [],
   "source": [
    "total_simulation_time = 100000\n",
    "mean_arrival_time = 1\n",
    "mean_departure_time = 4"
   ]
  },
  {
   "cell_type": "code",
   "execution_count": 645,
   "metadata": {},
   "outputs": [],
   "source": [
    "n, simul_time, mean_waiting_inline_time, mean_system_spent_time, number_of_arrivals, mean_clients_in_system, mean_clients_in_line = simulador(total_simulation_time, mean_arrival_time, mean_departure_time)"
   ]
  },
  {
   "cell_type": "code",
   "execution_count": 646,
   "metadata": {},
   "outputs": [
    {
     "name": "stdout",
     "output_type": "stream",
     "text": [
      "\n",
      "Total de pessoas que foram ao banco na simulação: 100031\n",
      "Número de pessoas na fila ao final da simulação: 1\n",
      "Tempo total da simulação: 100000.1723\n",
      "Tempo médio de espera na fila: 0.0826\n",
      "Tempo médio do cliente no sistema: 0.3323\n",
      "Número médio de clientes no sistema: 0.3324\n",
      "Número médio de clientes na fila: 0.0826\n"
     ]
    }
   ],
   "source": [
    "print(f\"\\nTotal de pessoas que foram ao banco na simulação: {number_of_arrivals}\")\n",
    "print(f\"Número de pessoas na fila ao final da simulação: {n}\")\n",
    "print(f\"Tempo total da simulação: {simul_time:.4f}\")\n",
    "print(f\"Tempo médio de espera na fila: {(mean_waiting_inline_time):.4f}\")\n",
    "print(f\"Tempo médio do cliente no sistema: {(mean_system_spent_time):.4f}\")\n",
    "print(f\"Número médio de clientes no sistema: {(mean_clients_in_system):.4f}\")\n",
    "print(f\"Número médio de clientes na fila: {(mean_clients_in_line):.4f}\")"
   ]
  },
  {
   "cell_type": "code",
   "execution_count": 647,
   "metadata": {},
   "outputs": [],
   "source": [
    "def simulator_confidence_interval(sample_size, confidence_level):\n",
    "    \"\"\"\n",
    "    Simula o processo de fila m/m/1 um intervalo de confiança para tempo médio de espera na fila.\n",
    "\n",
    "    sample_size: tamanho da amostra para a simulação\n",
    "    confidence_level: nível de confiança desejado para o intervalo de confiança\n",
    "\n",
    "    Retorna um intervalo de confiança para o tempo médio de espera na fila.\n",
    "    \"\"\"\n",
    "    results = [simulador(1000, 1, 2)[2] for _ in range(sample_size)]\n",
    "\n",
    "\n",
    "    # Cálculo do intervalo de confiança\n",
    "    # proportion = np.sum(results) / sample_size\n",
    "    # std_error = math.sqrt(proportion * (1 - proportion) / sample_size)\n",
    "    # margin_error = std_error * st.norm.ppf(confidence_level)\n",
    "    # lower_bound = proportion - margin_error #limite superior do IC\n",
    "    # upper_bound = proportion + margin_error  # limite inferior do IC\n",
    "\n",
    "\n",
    "    # Outro calculo\n",
    "    x_barra = np.sum(results) / sample_size\n",
    "    z = 1.96\n",
    "    s = np.std(results)\n",
    "    limite_inferior = x_barra - z*s/math.sqrt(sample_size)\n",
    "    limite_superior = x_barra + z*s/math.sqrt(sample_size)\n",
    "\n",
    "    # print(limite_inferior, limite_superior)\n",
    "    return (limite_inferior, limite_superior), results\n",
    "    return (lower_bound, upper_bound), results\n",
    "\n",
    "#intervalo, data = simulator_confidence_interval(1000, 0.95)\n",
    "\n",
    "#print(intervalo)"
   ]
  },
  {
   "cell_type": "code",
   "execution_count": 648,
   "metadata": {},
   "outputs": [],
   "source": [
    "#px.histogram(data, nbins=50)"
   ]
  },
  {
   "attachments": {},
   "cell_type": "markdown",
   "metadata": {},
   "source": [
    "## Avaliando Resultados"
   ]
  },
  {
   "attachments": {},
   "cell_type": "markdown",
   "metadata": {},
   "source": [
    "Link para referência: https://people.revoledu.com/kardi/tutorial/Queuing/MM1-Queuing-System.html"
   ]
  },
  {
   "attachments": {},
   "cell_type": "markdown",
   "metadata": {},
   "source": [
    "W = tempo médio que o cliente permanece no sistema (tempo de espera na fila + tempo de serviço). ${W = \\frac{1}{\\mu - \\lambda}}$.\\\n",
    "Wq = tempo médio que os clientes devem esperar na fila até serem atendidos. ${Wq = W - \\frac{1}{\\mu}}$.\\\n",
    "L = número médio de clientes no sistema (na fila e sendo servidos). ${L = \\lambda W}$\\\n",
    "Lq = número médio de clientes na fila. ${L_q = \\lambda W_q}$"
   ]
  },
  {
   "attachments": {},
   "cell_type": "markdown",
   "metadata": {},
   "source": [
    "### Caso ${\\lambda} = 1$ e ${\\mu} = 2$"
   ]
  },
  {
   "attachments": {},
   "cell_type": "markdown",
   "metadata": {},
   "source": [
    "*Tomando uma simulação como exemplo, temos a seguinte saída:*\n",
    "\n",
    "Total de pessoas que foram ao banco na simulação: ``99843``\\\n",
    "Número de pessoas na fila ao final da simulação: ``3``\\\n",
    "Tempo total da simulação: ``100000.2004``\\\n",
    "Tempo médio de espera na fila: ``0.5103``\\\n",
    "Tempo médio do cliente no sistema: ``1.0016``"
   ]
  },
  {
   "attachments": {},
   "cell_type": "markdown",
   "metadata": {},
   "source": [
    "Como vimos mais acima:\n",
    "${W = \\frac{1}{\\mu - \\lambda}}$. Logo, com ${\\lambda = 1}$ e ${\\mu = 2}$ temos: ${W = \\frac{1}{2 - 1}}$ = 1\\\n",
    "${W_q = W - \\frac{1}{\\mu}}$. Logo, com ${W= 1}$ e ${\\mu = 2}$ temos: ${W_q = 1 - \\frac{1}{2}}$ = ${\\frac{1}{2}}$\\\n",
    "${L = \\lambda W}$. Logo, com ${W= 1}$ e ${\\lambda = 1}$ temos: ${L = 1}$\\\n",
    "${L_q = \\lambda W_q}$. Logo, com ${W_q= \\frac{1}{2}}$ e ${\\lambda = 1}$ temos: ${L_q = \\frac{1}{2}}$"
   ]
  },
  {
   "attachments": {},
   "cell_type": "markdown",
   "metadata": {},
   "source": [
    "Os resultados condizem com os valores da simulação!!"
   ]
  }
 ],
 "metadata": {
  "kernelspec": {
   "display_name": "Python 3",
   "language": "python",
   "name": "python3"
  },
  "language_info": {
   "codemirror_mode": {
    "name": "ipython",
    "version": 3
   },
   "file_extension": ".py",
   "mimetype": "text/x-python",
   "name": "python",
   "nbconvert_exporter": "python",
   "pygments_lexer": "ipython3",
   "version": "3.9.13"
  },
  "orig_nbformat": 4
 },
 "nbformat": 4,
 "nbformat_minor": 2
}
