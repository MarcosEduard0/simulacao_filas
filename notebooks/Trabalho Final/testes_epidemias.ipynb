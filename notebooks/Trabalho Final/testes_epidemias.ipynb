{
 "cells": [
  {
   "cell_type": "markdown",
   "metadata": {},
   "source": [
    "# Epidemias\n",
    "Objetivo: relacionar o período ocupado das filas com epidemias."
   ]
  },
  {
   "cell_type": "markdown",
   "metadata": {},
   "source": [
    "### 5.1 Fração de períodos ocupados que terminam ###\n",
    "\n",
    "Em cada um dos casos\n",
    "1. M/M/1: ρ = 0.5, λ = 1, μ = 2\n",
    "2. M/M/1: ρ = 0.5, λ = 2, μ = 4\n",
    "3. M/M/1: ρ = 2, λ = 4, μ = 2\n",
    "\n",
    "avalie qual a fração de árvores finitas? obs.: obviamente, você precisará usar uma heurística para dizer se a  ́arvore ́e finita ou infinita, tendo em vista que o computador não suporta trabalhar com estruturas infinitas.\n",
    "\n",
    "Em particular, relacione s = G(s)"
   ]
  },
  {
   "cell_type": "markdown",
   "metadata": {},
   "source": [
    "### 5.2 O que apresentar no relatório?\n",
    "\n",
    "Apresentar, no mínimo, o seguinte\n",
    "* resultados com intervalo de confiança\n",
    "* indicação de verificação de corretude (resultados analíticos, no caso da fração de períodos ocupados que terminam, via s = G(s), dentro do intervalo de confiança)"
   ]
  },
  {
   "cell_type": "code",
   "execution_count": 1,
   "metadata": {},
   "outputs": [],
   "source": [
    "import numpy as np\n",
    "from collections import Counter\n",
    "from scipy.stats import t\n",
    "from statistics import mean"
   ]
  },
  {
   "cell_type": "code",
   "execution_count": 2,
   "metadata": {},
   "outputs": [],
   "source": [
    "def branch_poisson(n, lam):\n",
    "    z = np.zeros(n + 1)\n",
    "    z[0] = 1\n",
    "    for i in range(1, n + 1):\n",
    "        z[i] = np.sum(np.random.poisson(lam, int(z[i - 1])))\n",
    "    return z\n",
    "\n",
    "n = 500000"
   ]
  },
  {
   "cell_type": "code",
   "execution_count": 3,
   "metadata": {},
   "outputs": [
    {
     "name": "stdout",
     "output_type": "stream",
     "text": [
      "0.999338\n"
     ]
    }
   ],
   "source": [
    "simlist = np.array([branch_poisson(10, 0.5)[10] for _ in range(n)])\n",
    "print(np.sum(simlist == 0) / n)"
   ]
  },
  {
   "cell_type": "code",
   "execution_count": 4,
   "metadata": {},
   "outputs": [
    {
     "name": "stdout",
     "output_type": "stream",
     "text": [
      "0.999388\n"
     ]
    }
   ],
   "source": [
    "simlist = np.array([branch_poisson(10, 0.5)[10] for _ in range(n)])\n",
    "print(np.sum(simlist == 0) / n)"
   ]
  },
  {
   "cell_type": "code",
   "execution_count": 5,
   "metadata": {},
   "outputs": [
    {
     "name": "stdout",
     "output_type": "stream",
     "text": [
      "0.202498\n"
     ]
    }
   ],
   "source": [
    "simlist = np.array([branch_poisson(10, 2)[10] for _ in range(n)])\n",
    "print(np.sum(simlist == 0) / n)"
   ]
  },
  {
   "cell_type": "code",
   "execution_count": 211,
   "metadata": {},
   "outputs": [],
   "source": [
    "def simulador(lambda_=1, mi_=2, simulation_total_time=10, deterministic=False):\n",
    "    n, tempo_simulacao, num_arvores_finitas = 0, 0, 0\n",
    "    exponential = (lambda mi: 1 / mi) if deterministic else (lambda mi: np.random.exponential(scale=1 / mi))\n",
    "\n",
    "    while tempo_simulacao < simulation_total_time:\n",
    "        tempo_chegada = np.random.exponential(scale=1 / lambda_)\n",
    "        tempo_saida = exponential(mi_)\n",
    "\n",
    "        if n == 0 or tempo_chegada < tempo_saida:\n",
    "            tempo_simulacao += tempo_chegada\n",
    "            n += 1\n",
    "        else:\n",
    "            tempo_simulacao += tempo_saida\n",
    "            n -= 1\n",
    "            if (n==0):\n",
    "                num_arvores_finitas += 1\n",
    "\n",
    "    return n, num_arvores_finitas"
   ]
  },
  {
   "cell_type": "code",
   "execution_count": 212,
   "metadata": {},
   "outputs": [
    {
     "name": "stdout",
     "output_type": "stream",
     "text": [
      "21.3997\n"
     ]
    }
   ],
   "source": [
    "amst = []\n",
    "for i in range(10000):\n",
    "    restante_clientes, num_arvores_finitas = simulador(lambda_=4, mi_=2)\n",
    "    amst.append(restante_clientes)\n",
    "\n",
    "remaining_mean = mean(amst)\n",
    "print(remaining_mean)"
   ]
  },
  {
   "cell_type": "code",
   "execution_count": 215,
   "metadata": {},
   "outputs": [
    {
     "name": "stdout",
     "output_type": "stream",
     "text": [
      "----- Cenário: λ = 1, μ = 2 -----\n",
      "Fração árvores finitas: 0.967196\n",
      "----- Cenário: λ = 2, μ = 4 -----\n",
      "Fração árvores finitas: 0.984107\n",
      "----- Cenário: λ = 4, μ = 2 -----\n",
      "Fração árvores finitas: 0.659735\n"
     ]
    }
   ],
   "source": [
    "#Cenários (λ, μ)\n",
    "cenarios = [\n",
    "    {'λ': 1, 'μ': 2},\n",
    "    {'λ': 2, 'μ': 4},\n",
    "    {'λ': 4, 'μ': 2},\n",
    "]\n",
    "\n",
    "for cenario in cenarios:\n",
    "    print(f\"----- Cenário: λ = {cenario['λ']}, μ = {cenario['μ']} -----\")\n",
    "\n",
    "    total = 100\n",
    "    amostras = []    \n",
    "    for i in range(total):\n",
    "        inf, fin = 0, 0\n",
    "        sub_total = 100\n",
    "        for j in range(sub_total):\n",
    "            restante_clientes, num_arvores_finitas = simulador(lambda_=cenario['λ'], mi_=cenario['μ'])\n",
    "            if (num_arvores_finitas == 0):\n",
    "                inf += 1\n",
    "            elif (restante_clientes == 0):\n",
    "                inf += 1\n",
    "                \n",
    "            fin += num_arvores_finitas\n",
    "            amostras.append(fin/(fin + inf))\n",
    "\n",
    "    print(f\"Fração árvores finitas: {mean(amostras):.6f}\")"
   ]
  },
  {
   "cell_type": "code",
   "execution_count": 70,
   "metadata": {},
   "outputs": [
    {
     "name": "stdout",
     "output_type": "stream",
     "text": [
      "----- Cenário: λ = 1, μ = 2, ρ = 0.5 -----\n",
      "Proporção Esperada de Árvores Finitas: 0.333333\n",
      "Proporção Obtida na Simulação: 0.180552\n",
      "----- Cenário: λ = 2, μ = 4, ρ = 0.5 -----\n",
      "Proporção Esperada de Árvores Finitas: 0.333333\n",
      "Proporção Obtida na Simulação: 0.604859\n",
      "----- Cenário: λ = 4, μ = 2, ρ = 2 -----\n",
      "Proporção Esperada de Árvores Finitas: 0.666667\n",
      "Proporção Obtida na Simulação: 0.000183\n"
     ]
    }
   ],
   "source": [
    "import numpy as np\n",
    "from collections import Counter\n",
    "\n",
    "def mm1_analytical(ρ):\n",
    "    L = ρ / (1 - ρ)\n",
    "    Lq = ρ**2 / (1 - ρ)\n",
    "    W = 1 / (2 - ρ)\n",
    "    Wq = ρ / (2 * (2 - ρ))\n",
    "    return {'L': L, 'Lq': Lq, 'W': W, 'Wq': Wq, 'ρ': ρ}\n",
    "\n",
    "# Cenários (λ, μ e ρ)\n",
    "cenarios = [\n",
    "    {'λ': 1, 'μ': 2, 'ρ': 0.5},\n",
    "    {'λ': 2, 'μ': 4, 'ρ': 0.5},\n",
    "    {'λ': 4, 'μ': 2, 'ρ': 2},\n",
    "]\n",
    "\n",
    "for cenario in cenarios:\n",
    "    print(f\"----- Cenário: λ = {cenario['λ']}, μ = {cenario['μ']}, ρ = {cenario['ρ']} -----\")\n",
    "    \n",
    "    result = simulador(lambda_=cenario['λ'], mi_=cenario['μ'], simulation_total_time=10000, deterministic=False)\n",
    "\n",
    "    # Resultados da simulação\n",
    "    # for key, value in result.items():\n",
    "    #     print(f\"{key}: {value}\")\n",
    "\n",
    "    # Proporção esperada de árvores finitas (de acordo com a heurística)\n",
    "    proporcao_esperada = cenario['λ'] / (cenario['λ'] + cenario['μ'])\n",
    "\n",
    "    # Proporção obtida na simulação\n",
    "    proporcao_obtida = result['Proporção de Árvores Finitas']\n",
    "\n",
    "    print(f\"Proporção Esperada de Árvores Finitas: {proporcao_esperada:.6f}\")\n",
    "    print(f\"Proporção Obtida na Simulação: {proporcao_obtida:.6f}\")\n",
    "\n"
   ]
  },
  {
   "cell_type": "markdown",
   "metadata": {},
   "source": [
    "### Cenário 1:  $λ= 1, μ= 2, ρ= 0.5$"
   ]
  },
  {
   "cell_type": "code",
   "execution_count": 83,
   "metadata": {},
   "outputs": [
    {
     "name": "stdout",
     "output_type": "stream",
     "text": [
      "6.817964882935544e-05\n"
     ]
    }
   ],
   "source": [
    "result = simulador(lambda_=12, mi_=10, simulation_total_time=10000, deterministic=False)\n",
    "print(result['Proporção de Árvores Finitas'])"
   ]
  },
  {
   "cell_type": "markdown",
   "metadata": {},
   "source": [
    "### Cenário 2:  $λ= 2, μ= 4, ρ= 0.5$"
   ]
  },
  {
   "cell_type": "code",
   "execution_count": 52,
   "metadata": {},
   "outputs": [
    {
     "name": "stdout",
     "output_type": "stream",
     "text": [
      "0.6172327044025158\n"
     ]
    }
   ],
   "source": [
    "result = simulador(lambda_=2, mi_=4, simulation_total_time=10000, deterministic=False)\n",
    "print(result['Proporção de Árvores Finitas'])"
   ]
  },
  {
   "cell_type": "markdown",
   "metadata": {},
   "source": [
    "### Cenário 2:  $λ= 4, μ= 2, ρ= 2$"
   ]
  },
  {
   "cell_type": "code",
   "execution_count": 60,
   "metadata": {},
   "outputs": [
    {
     "name": "stdout",
     "output_type": "stream",
     "text": [
      "4.9896049896049896e-05\n"
     ]
    }
   ],
   "source": [
    "result = simulador(lambda_=4, mi_=2, simulation_total_time=10000, deterministic=False)\n",
    "print(result['Proporção de Árvores Finitas'])"
   ]
  },
  {
   "cell_type": "code",
   "execution_count": 134,
   "metadata": {},
   "outputs": [
    {
     "name": "stdout",
     "output_type": "stream",
     "text": [
      "Fração de árvores finitas: 0.204\n"
     ]
    }
   ],
   "source": [
    "import numpy as np\n",
    "\n",
    "# Poisson offspring distribution\n",
    "def branch_poisson(n, lam):\n",
    "    z = np.zeros(n + 1)\n",
    "    z[0] = 1\n",
    "    for i in range(1, n + 1):\n",
    "        z[i] = np.sum(np.random.poisson(lam, int(z[i - 1])))\n",
    "    return z\n",
    "\n",
    "n = 5000\n",
    "lambda_ = 4\n",
    "mi_ = 2 \n",
    "simlist = np.array([branch_poisson(10, lambda_ / mi_)[10] for _ in range(n)])\n",
    "fraction_finite_trees = np.sum(simlist == 0) / n\n",
    "print(\"Fração de árvores finitas:\", fraction_finite_trees)"
   ]
  },
  {
   "cell_type": "code",
   "execution_count": 6,
   "metadata": {},
   "outputs": [
    {
     "ename": "UFuncTypeError",
     "evalue": "Cannot cast ufunc 'subtract' output from dtype('float64') to dtype('int32') with casting rule 'same_kind'",
     "output_type": "error",
     "traceback": [
      "\u001b[1;31m---------------------------------------------------------------------------\u001b[0m",
      "\u001b[1;31mUFuncTypeError\u001b[0m                            Traceback (most recent call last)",
      "\u001b[1;32mC:\\Users\\MARCOS~1\\AppData\\Local\\Temp/ipykernel_28836/4161137596.py\u001b[0m in \u001b[0;36m<module>\u001b[1;34m\u001b[0m\n\u001b[0;32m     35\u001b[0m \u001b[0mB\u001b[0m \u001b[1;33m=\u001b[0m \u001b[0mnp\u001b[0m\u001b[1;33m.\u001b[0m\u001b[0marray\u001b[0m\u001b[1;33m(\u001b[0m\u001b[1;33m[\u001b[0m\u001b[1;36m5\u001b[0m\u001b[1;33m,\u001b[0m \u001b[1;36m2\u001b[0m\u001b[1;33m,\u001b[0m \u001b[1;36m8\u001b[0m\u001b[1;33m]\u001b[0m\u001b[1;33m)\u001b[0m\u001b[1;33m\u001b[0m\u001b[1;33m\u001b[0m\u001b[0m\n\u001b[0;32m     36\u001b[0m \u001b[1;33m\u001b[0m\u001b[0m\n\u001b[1;32m---> 37\u001b[1;33m \u001b[0msolutions\u001b[0m \u001b[1;33m=\u001b[0m \u001b[0mgaussian_elimination\u001b[0m\u001b[1;33m(\u001b[0m\u001b[0mA\u001b[0m\u001b[1;33m,\u001b[0m \u001b[0mB\u001b[0m\u001b[1;33m)\u001b[0m\u001b[1;33m\u001b[0m\u001b[1;33m\u001b[0m\u001b[0m\n\u001b[0m\u001b[0;32m     38\u001b[0m \u001b[0mprint\u001b[0m\u001b[1;33m(\u001b[0m\u001b[1;34m\"Soluções:\"\u001b[0m\u001b[1;33m,\u001b[0m \u001b[0msolutions\u001b[0m\u001b[1;33m)\u001b[0m\u001b[1;33m\u001b[0m\u001b[1;33m\u001b[0m\u001b[0m\n",
      "\u001b[1;32mC:\\Users\\MARCOS~1\\AppData\\Local\\Temp/ipykernel_28836/4161137596.py\u001b[0m in \u001b[0;36mgaussian_elimination\u001b[1;34m(A, B)\u001b[0m\n\u001b[0;32m     19\u001b[0m         \u001b[1;32mfor\u001b[0m \u001b[0mj\u001b[0m \u001b[1;32min\u001b[0m \u001b[0mrange\u001b[0m\u001b[1;33m(\u001b[0m\u001b[0mi\u001b[0m \u001b[1;33m+\u001b[0m \u001b[1;36m1\u001b[0m\u001b[1;33m,\u001b[0m \u001b[0mn\u001b[0m\u001b[1;33m)\u001b[0m\u001b[1;33m:\u001b[0m\u001b[1;33m\u001b[0m\u001b[1;33m\u001b[0m\u001b[0m\n\u001b[0;32m     20\u001b[0m             \u001b[0mfactor\u001b[0m \u001b[1;33m=\u001b[0m \u001b[0maugmented_matrix\u001b[0m\u001b[1;33m[\u001b[0m\u001b[0mj\u001b[0m\u001b[1;33m]\u001b[0m\u001b[1;33m[\u001b[0m\u001b[0mi\u001b[0m\u001b[1;33m]\u001b[0m \u001b[1;33m/\u001b[0m \u001b[0maugmented_matrix\u001b[0m\u001b[1;33m[\u001b[0m\u001b[0mi\u001b[0m\u001b[1;33m]\u001b[0m\u001b[1;33m[\u001b[0m\u001b[0mi\u001b[0m\u001b[1;33m]\u001b[0m\u001b[1;33m\u001b[0m\u001b[1;33m\u001b[0m\u001b[0m\n\u001b[1;32m---> 21\u001b[1;33m             \u001b[0maugmented_matrix\u001b[0m\u001b[1;33m[\u001b[0m\u001b[0mj\u001b[0m\u001b[1;33m]\u001b[0m \u001b[1;33m-=\u001b[0m \u001b[0mfactor\u001b[0m \u001b[1;33m*\u001b[0m \u001b[0maugmented_matrix\u001b[0m\u001b[1;33m[\u001b[0m\u001b[0mi\u001b[0m\u001b[1;33m]\u001b[0m\u001b[1;33m\u001b[0m\u001b[1;33m\u001b[0m\u001b[0m\n\u001b[0m\u001b[0;32m     22\u001b[0m \u001b[1;33m\u001b[0m\u001b[0m\n\u001b[0;32m     23\u001b[0m     \u001b[1;31m# Fase de retrosubstituição\u001b[0m\u001b[1;33m\u001b[0m\u001b[1;33m\u001b[0m\u001b[1;33m\u001b[0m\u001b[0m\n",
      "\u001b[1;31mUFuncTypeError\u001b[0m: Cannot cast ufunc 'subtract' output from dtype('float64') to dtype('int32') with casting rule 'same_kind'"
     ]
    }
   ],
   "source": [
    "import numpy as np\n",
    "\n",
    "def gaussian_elimination(A, B):\n",
    "    n = len(B)\n",
    "    \n",
    "    # Combinação da matriz A com a matriz B\n",
    "    augmented_matrix = np.hstack((A, B.reshape(n, 1)))\n",
    "\n",
    "    # Fase de eliminação\n",
    "    for i in range(n):\n",
    "        # Pivô deve ser diferente de zero; se for, é necessário fazer um pivoteamento\n",
    "        if augmented_matrix[i][i] == 0:\n",
    "            for k in range(i + 1, n):\n",
    "                if augmented_matrix[k][i] != 0:\n",
    "                    augmented_matrix[[i, k]] = augmented_matrix[[k, i]]\n",
    "                    break\n",
    "        \n",
    "        # Eliminação\n",
    "        for j in range(i + 1, n):\n",
    "            factor = augmented_matrix[j][i] / augmented_matrix[i][i]\n",
    "            augmented_matrix[j] -= factor * augmented_matrix[i]\n",
    "\n",
    "    # Fase de retrosubstituição\n",
    "    solutions = np.zeros(n)\n",
    "    for i in range(n - 1, -1, -1):\n",
    "        solutions[i] = (augmented_matrix[i][-1] - np.dot(augmented_matrix[i][i+1:n], solutions[i+1:n])) / augmented_matrix[i][i]\n",
    "\n",
    "    return solutions\n",
    "\n",
    "# Exemplo de utilização:\n",
    "A = np.array([[2, 3, -1],\n",
    "              [1, -1, 1],\n",
    "              [3, 2, 1]])\n",
    "\n",
    "B = np.array([5, 2, 8])\n",
    "\n",
    "solutions = gaussian_elimination(A, B)\n",
    "print(\"Soluções:\", solutions)\n"
   ]
  }
 ],
 "metadata": {
  "interpreter": {
   "hash": "f9f85f796d01129d0dd105a088854619f454435301f6ffec2fea96ecbd9be4ac"
  },
  "kernelspec": {
   "display_name": "Python 3.9.16 64-bit",
   "language": "python",
   "name": "python3"
  },
  "language_info": {
   "codemirror_mode": {
    "name": "ipython",
    "version": 3
   },
   "file_extension": ".py",
   "mimetype": "text/x-python",
   "name": "python",
   "nbconvert_exporter": "python",
   "pygments_lexer": "ipython3",
   "version": "3.9.4"
  },
  "orig_nbformat": 4
 },
 "nbformat": 4,
 "nbformat_minor": 2
}
