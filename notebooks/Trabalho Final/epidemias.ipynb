{
 "cells": [
  {
   "cell_type": "markdown",
   "metadata": {},
   "source": [
    "# Epidemias\n",
    "\n",
    "Em cada um dos casos\n",
    "1. M/M/1: ρ = 0.5, λ = 1, μ = 2\n",
    "2. M/M/1: ρ = 0.5, λ = 2, μ = 4\n",
    "3. M/M/1: ρ = 2, λ = 4, μ = 2\n",
    "\n",
    "avalie qual a fração de árvores finitas?\n",
    "\n",
    "Em particular, relacione s = G(s)"
   ]
  },
  {
   "cell_type": "code",
   "execution_count": 88,
   "metadata": {},
   "outputs": [],
   "source": [
    "import numpy as np\n",
    "from collections import Counter\n",
    "from scipy.stats import t"
   ]
  },
  {
   "cell_type": "code",
   "execution_count": 89,
   "metadata": {},
   "outputs": [],
   "source": [
    "def simulador(lambda_=1, mi_=2, simulation_total_time=10000, deterministic=False):\n",
    "    n = tempo_simulacao = num_chegadas = tempo_ocupado_servidor = 0\n",
    "    clientes_fila, chegadas, freq_clientes, tempo_clientes_fila, tempo_clientes_sistema, tempo_espera_sistema = [], [], [], [], [], []\n",
    "    \n",
    "    maximo_de_iteracoes = 1000  # Definindo um limite de iterações para detectar se a árvore é finita ou infinita\n",
    "    iteracao_atual = 0\n",
    "    s_atual = None\n",
    "    num_arvores_finitas = 0\n",
    "    num_arvores_totais = 0\n",
    "\n",
    "    exponential = (lambda mi: 1 / mi) if deterministic else (lambda mi: np.random.exponential(scale=1 / mi))\n",
    "\n",
    "    while tempo_simulacao < simulation_total_time:\n",
    "        tempo_chegada = np.random.exponential(scale=1 / lambda_)\n",
    "        tempo_saida = exponential(mi_)\n",
    "        last_event_time = tempo_simulacao\n",
    "\n",
    "        if n == 0 or tempo_chegada < tempo_saida:\n",
    "            if n == 0:\n",
    "                freq_clientes.append(len(clientes_fila))\n",
    "\n",
    "            tempo_simulacao += tempo_chegada\n",
    "            num_chegadas += 1\n",
    "            tempo_clientes_sistema.append((tempo_simulacao - last_event_time) * n)\n",
    "            tempo_clientes_fila.append((tempo_simulacao - last_event_time) * len(clientes_fila))\n",
    "            chegadas.append(tempo_simulacao)\n",
    "            n += 1\n",
    "\n",
    "            if n > 1:\n",
    "                clientes_fila.append(tempo_simulacao)\n",
    "                tempo_ocupado_servidor += tempo_chegada\n",
    "                freq_clientes.append(len(clientes_fila))\n",
    "\n",
    "        else:\n",
    "            tempo_simulacao += tempo_saida\n",
    "            tempo_clientes_sistema.append((tempo_simulacao - last_event_time) * n)\n",
    "            tempo_clientes_fila.append((tempo_simulacao - last_event_time) * len(clientes_fila))\n",
    "\n",
    "            if len(clientes_fila):\n",
    "                clientes_fila.pop(0)\n",
    "\n",
    "            tempo_espera_sistema.append(tempo_simulacao - chegadas.pop(0))\n",
    "            tempo_ocupado_servidor += tempo_saida  \n",
    "            n -= 1\n",
    "\n",
    "        # Verificando se a árvore é finita\n",
    "        iteracao_atual += 1\n",
    "        if iteracao_atual == maximo_de_iteracoes:\n",
    "            s_atual = len(clientes_fila)\n",
    "        elif iteracao_atual > maximo_de_iteracoes and len(clientes_fila) == s_atual:\n",
    "            num_arvores_finitas += 1\n",
    "        \n",
    "        num_arvores_totais += 1\n",
    "    \n",
    "    proporcao_arvores_finitas = num_arvores_finitas / num_arvores_totais\n",
    "    # Calculando intervalo de confiança usando a distribuição t de Student\n",
    "    graus_de_liberdade = num_arvores_totais - 1\n",
    "    intervalo_confianca = t.interval(0.95, df=graus_de_liberdade, loc=proporcao_arvores_finitas, scale=np.sqrt((1 / num_arvores_totais) * proporcao_arvores_finitas * (1 - proporcao_arvores_finitas)))\n",
    "\n",
    "\n",
    "    soma_tempo_clientes_fila = sum(tempo_clientes_fila)\n",
    "    soma_tempo_clientes_sistema = sum(tempo_clientes_sistema)\n",
    "\n",
    "    Wq = soma_tempo_clientes_fila / num_chegadas\n",
    "    W = soma_tempo_clientes_sistema / num_chegadas\n",
    "    L = soma_tempo_clientes_sistema / tempo_simulacao\n",
    "    Lq = soma_tempo_clientes_fila / tempo_simulacao\n",
    "    rho = tempo_ocupado_servidor / tempo_simulacao  \n",
    "    pi = Counter(freq_clientes)\n",
    "\n",
    "    for valor, freq in pi.items():\n",
    "        pi[valor] = round(freq / num_chegadas, 6)\n",
    "\n",
    "    \n",
    "\n",
    "    results = {\n",
    "        'Total de Clientes': num_chegadas,\n",
    "        'Clientes Restantes': n,\n",
    "        'Tempo Total': tempo_simulacao,\n",
    "        'Tempo Espera Sistema': tempo_espera_sistema,\n",
    "        'Wq': Wq,\n",
    "        'W': W,\n",
    "        'L': L,\n",
    "        'Lq': Lq,\n",
    "        'rho': rho,\n",
    "        'pi': pi,\n",
    "        'Proporção de Árvores Finitas': proporcao_arvores_finitas,\n",
    "        'Intervalo de Confiança': intervalo_confianca\n",
    "    }\n",
    "\n",
    "    return results\n"
   ]
  },
  {
   "cell_type": "code",
   "execution_count": 91,
   "metadata": {},
   "outputs": [
    {
     "name": "stdout",
     "output_type": "stream",
     "text": [
      "----- Cenário: λ = 1, μ = 10 -----\n",
      "Proporção Esperada de Árvores Finitas: 0.090909\n",
      "Proporção Obtida na Simulação: 0.901207\n",
      "----- Cenário: λ = 2, μ = 20 -----\n",
      "Proporção Esperada de Árvores Finitas: 0.090909\n",
      "Proporção Obtida na Simulação: 0.922003\n",
      "----- Cenário: λ = 12, μ = 10 -----\n",
      "Proporção Esperada de Árvores Finitas: 0.545455\n",
      "Proporção Obtida na Simulação: 0.000032\n"
     ]
    }
   ],
   "source": [
    "#Cenários (λ, μ)\n",
    "cenarios = [\n",
    "    {'λ': 1, 'μ': 10},\n",
    "    {'λ': 2, 'μ': 20},\n",
    "    {'λ': 12, 'μ': 10},\n",
    "]\n",
    "\n",
    "for cenario in cenarios:\n",
    "    print(f\"----- Cenário: λ = {cenario['λ']}, μ = {cenario['μ']} -----\")\n",
    "\n",
    "    # Resultados da simulação\n",
    "    result = simulador(lambda_=cenario['λ'], mi_=cenario['μ'], simulation_total_time=10000, deterministic=False)\n",
    "    # for key, value in result.items():\n",
    "    #     print(f\"{key}: {value}\")\n",
    "\n",
    "    # Proporção esperada de árvores finitas (de acordo com a heurística)\n",
    "    proporcao_esperada = cenario['λ'] / (cenario['λ'] + cenario['μ'])\n",
    "\n",
    "    # Proporção obtida na simulação\n",
    "    proporcao_obtida = result['Proporção de Árvores Finitas']\n",
    "\n",
    "    print(f\"Proporção Esperada de Árvores Finitas: {proporcao_esperada:.6f}\")\n",
    "    print(f\"Proporção Obtida na Simulação: {proporcao_obtida:.6f}\")"
   ]
  },
  {
   "cell_type": "code",
   "execution_count": 70,
   "metadata": {},
   "outputs": [
    {
     "name": "stdout",
     "output_type": "stream",
     "text": [
      "----- Cenário: λ = 1, μ = 2, ρ = 0.5 -----\n",
      "Proporção Esperada de Árvores Finitas: 0.333333\n",
      "Proporção Obtida na Simulação: 0.180552\n",
      "----- Cenário: λ = 2, μ = 4, ρ = 0.5 -----\n",
      "Proporção Esperada de Árvores Finitas: 0.333333\n",
      "Proporção Obtida na Simulação: 0.604859\n",
      "----- Cenário: λ = 4, μ = 2, ρ = 2 -----\n",
      "Proporção Esperada de Árvores Finitas: 0.666667\n",
      "Proporção Obtida na Simulação: 0.000183\n"
     ]
    }
   ],
   "source": [
    "import numpy as np\n",
    "from collections import Counter\n",
    "\n",
    "def mm1_analytical(ρ):\n",
    "    L = ρ / (1 - ρ)\n",
    "    Lq = ρ**2 / (1 - ρ)\n",
    "    W = 1 / (2 - ρ)\n",
    "    Wq = ρ / (2 * (2 - ρ))\n",
    "    return {'L': L, 'Lq': Lq, 'W': W, 'Wq': Wq, 'ρ': ρ}\n",
    "\n",
    "# Cenários (λ, μ e ρ)\n",
    "cenarios = [\n",
    "    {'λ': 1, 'μ': 2, 'ρ': 0.5},\n",
    "    {'λ': 2, 'μ': 4, 'ρ': 0.5},\n",
    "    {'λ': 4, 'μ': 2, 'ρ': 2},\n",
    "]\n",
    "\n",
    "for cenario in cenarios:\n",
    "    print(f\"----- Cenário: λ = {cenario['λ']}, μ = {cenario['μ']}, ρ = {cenario['ρ']} -----\")\n",
    "    \n",
    "    result = simulador(lambda_=cenario['λ'], mi_=cenario['μ'], simulation_total_time=10000, deterministic=False)\n",
    "\n",
    "    # Resultados da simulação\n",
    "    # for key, value in result.items():\n",
    "    #     print(f\"{key}: {value}\")\n",
    "\n",
    "    # Proporção esperada de árvores finitas (de acordo com a heurística)\n",
    "    proporcao_esperada = cenario['λ'] / (cenario['λ'] + cenario['μ'])\n",
    "\n",
    "    # Proporção obtida na simulação\n",
    "    proporcao_obtida = result['Proporção de Árvores Finitas']\n",
    "\n",
    "    print(f\"Proporção Esperada de Árvores Finitas: {proporcao_esperada:.6f}\")\n",
    "    print(f\"Proporção Obtida na Simulação: {proporcao_obtida:.6f}\")\n",
    "\n"
   ]
  },
  {
   "cell_type": "markdown",
   "metadata": {},
   "source": [
    "### Cenário 1:  $λ= 1, μ= 2, ρ= 0.5$"
   ]
  },
  {
   "cell_type": "code",
   "execution_count": 83,
   "metadata": {},
   "outputs": [
    {
     "name": "stdout",
     "output_type": "stream",
     "text": [
      "6.817964882935544e-05\n"
     ]
    }
   ],
   "source": [
    "result = simulador(lambda_=12, mi_=10, simulation_total_time=10000, deterministic=False)\n",
    "print(result['Proporção de Árvores Finitas'])"
   ]
  },
  {
   "cell_type": "markdown",
   "metadata": {},
   "source": [
    "### Cenário 2:  $λ= 2, μ= 4, ρ= 0.5$"
   ]
  },
  {
   "cell_type": "code",
   "execution_count": 52,
   "metadata": {},
   "outputs": [
    {
     "name": "stdout",
     "output_type": "stream",
     "text": [
      "0.6172327044025158\n"
     ]
    }
   ],
   "source": [
    "result = simulador(lambda_=2, mi_=4, simulation_total_time=10000, deterministic=False)\n",
    "print(result['Proporção de Árvores Finitas'])"
   ]
  },
  {
   "cell_type": "markdown",
   "metadata": {},
   "source": [
    "### Cenário 2:  $λ= 4, μ= 2, ρ= 2$"
   ]
  },
  {
   "cell_type": "code",
   "execution_count": 60,
   "metadata": {},
   "outputs": [
    {
     "name": "stdout",
     "output_type": "stream",
     "text": [
      "4.9896049896049896e-05\n"
     ]
    }
   ],
   "source": [
    "result = simulador(lambda_=4, mi_=2, simulation_total_time=10000, deterministic=False)\n",
    "print(result['Proporção de Árvores Finitas'])"
   ]
  }
 ],
 "metadata": {
  "interpreter": {
   "hash": "f9f85f796d01129d0dd105a088854619f454435301f6ffec2fea96ecbd9be4ac"
  },
  "kernelspec": {
   "display_name": "Python 3.9.16 64-bit",
   "language": "python",
   "name": "python3"
  },
  "language_info": {
   "codemirror_mode": {
    "name": "ipython",
    "version": 3
   },
   "file_extension": ".py",
   "mimetype": "text/x-python",
   "name": "python",
   "nbconvert_exporter": "python",
   "pygments_lexer": "ipython3",
   "version": "3.9.16"
  },
  "orig_nbformat": 4
 },
 "nbformat": 4,
 "nbformat_minor": 2
}
