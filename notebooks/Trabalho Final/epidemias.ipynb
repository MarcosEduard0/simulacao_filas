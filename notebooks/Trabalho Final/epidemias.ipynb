{
 "cells": [
  {
   "cell_type": "markdown",
   "metadata": {},
   "source": [
    "# Epidemias\n",
    "Objetivo: relacionar o período ocupado das filas com epidemias."
   ]
  },
  {
   "cell_type": "markdown",
   "metadata": {},
   "source": [
    "### 5.1 Fração de períodos ocupados que terminam ###\n",
    "\n",
    "Em cada um dos casos\n",
    "1. M/M/1: ρ = 0.5, λ = 1, μ = 2\n",
    "2. M/M/1: ρ = 0.5, λ = 2, μ = 4\n",
    "3. M/M/1: ρ = 2, λ = 4, μ = 2\n",
    "\n",
    "avalie qual a fração de árvores finitas? obs.: obviamente, você precisará usar uma heurística para dizer se a  ́arvore ́e finita ou infinita, tendo em vista que o computador não suporta trabalhar com estruturas infinitas.\n",
    "\n",
    "Em particular, relacione s = G(s)"
   ]
  },
  {
   "cell_type": "markdown",
   "metadata": {},
   "source": [
    "### 5.2 O que apresentar no relatório?\n",
    "\n",
    "Apresentar, no mínimo, o seguinte\n",
    "* resultados com intervalo de confiança\n",
    "* indicação de verificação de corretude (resultados analíticos, no caso da fração de períodos ocupados que terminam, via s = G(s), dentro do intervalo de confiança)"
   ]
  },
  {
   "cell_type": "code",
   "execution_count": 166,
   "metadata": {},
   "outputs": [],
   "source": [
    "import numpy as np\n",
    "from collections import Counter\n",
    "from scipy.stats import t\n",
    "from statistics import mean"
   ]
  },
  {
   "cell_type": "code",
   "execution_count": 2,
   "metadata": {},
   "outputs": [],
   "source": [
    "def branch_poisson(n, lam):\n",
    "    z = np.zeros(n + 1)\n",
    "    z[0] = 1\n",
    "    for i in range(1, n + 1):\n",
    "        z[i] = np.sum(np.random.poisson(lam, int(z[i - 1])))\n",
    "    return z\n",
    "\n",
    "n = 500000"
   ]
  },
  {
   "cell_type": "code",
   "execution_count": 3,
   "metadata": {},
   "outputs": [
    {
     "name": "stdout",
     "output_type": "stream",
     "text": [
      "0.99937\n"
     ]
    }
   ],
   "source": [
    "simlist = np.array([branch_poisson(10, 0.5)[10] for _ in range(n)])\n",
    "print(np.sum(simlist == 0) / n)"
   ]
  },
  {
   "cell_type": "code",
   "execution_count": 4,
   "metadata": {},
   "outputs": [
    {
     "name": "stdout",
     "output_type": "stream",
     "text": [
      "0.999372\n"
     ]
    }
   ],
   "source": [
    "simlist = np.array([branch_poisson(10, 0.5)[10] for _ in range(n)])\n",
    "print(np.sum(simlist == 0) / n)"
   ]
  },
  {
   "cell_type": "code",
   "execution_count": 205,
   "metadata": {},
   "outputs": [
    {
     "name": "stdout",
     "output_type": "stream",
     "text": [
      "0.203862\n"
     ]
    }
   ],
   "source": [
    "simlist = np.array([branch_poisson(10, 2)[10] for _ in range(n)])\n",
    "print(np.sum(simlist == 0) / n)"
   ]
  },
  {
   "cell_type": "code",
   "execution_count": 211,
   "metadata": {},
   "outputs": [],
   "source": [
    "def simulador(lambda_=1, mi_=2, simulation_total_time=10, deterministic=False):\n",
    "    n, tempo_simulacao, num_arvores_finitas = 0, 0, 0\n",
    "    exponential = (lambda mi: 1 / mi) if deterministic else (lambda mi: np.random.exponential(scale=1 / mi))\n",
    "\n",
    "    while tempo_simulacao < simulation_total_time:\n",
    "        tempo_chegada = np.random.exponential(scale=1 / lambda_)\n",
    "        tempo_saida = exponential(mi_)\n",
    "\n",
    "        if n == 0 or tempo_chegada < tempo_saida:\n",
    "            tempo_simulacao += tempo_chegada\n",
    "            n += 1\n",
    "        else:\n",
    "            tempo_simulacao += tempo_saida\n",
    "            n -= 1\n",
    "            if (n==0):\n",
    "                num_arvores_finitas += 1\n",
    "\n",
    "    return n, num_arvores_finitas"
   ]
  },
  {
   "cell_type": "code",
   "execution_count": 212,
   "metadata": {},
   "outputs": [
    {
     "name": "stdout",
     "output_type": "stream",
     "text": [
      "21.3997\n"
     ]
    }
   ],
   "source": [
    "amst = []\n",
    "for i in range(10000):\n",
    "    restante_clientes, num_arvores_finitas = simulador(lambda_=4, mi_=2)\n",
    "    amst.append(restante_clientes)\n",
    "\n",
    "remaining_mean = mean(amst)\n",
    "print(remaining_mean)"
   ]
  },
  {
   "cell_type": "code",
   "execution_count": 215,
   "metadata": {},
   "outputs": [
    {
     "name": "stdout",
     "output_type": "stream",
     "text": [
      "----- Cenário: λ = 1, μ = 2 -----\n",
      "Fração árvores finitas: 0.967196\n",
      "----- Cenário: λ = 2, μ = 4 -----\n",
      "Fração árvores finitas: 0.984107\n",
      "----- Cenário: λ = 4, μ = 2 -----\n",
      "Fração árvores finitas: 0.659735\n"
     ]
    }
   ],
   "source": [
    "#Cenários (λ, μ)\n",
    "cenarios = [\n",
    "    {'λ': 1, 'μ': 2},\n",
    "    {'λ': 2, 'μ': 4},\n",
    "    {'λ': 4, 'μ': 2},\n",
    "]\n",
    "\n",
    "for cenario in cenarios:\n",
    "    print(f\"----- Cenário: λ = {cenario['λ']}, μ = {cenario['μ']} -----\")\n",
    "\n",
    "    total = 100\n",
    "    amostras = []    \n",
    "    for i in range(total):\n",
    "        inf, fin = 0, 0\n",
    "        sub_total = 100\n",
    "        for j in range(sub_total):\n",
    "            restante_clientes, num_arvores_finitas = simulador(lambda_=cenario['λ'], mi_=cenario['μ'])\n",
    "            if (num_arvores_finitas == 0):\n",
    "                inf += 1\n",
    "            elif (restante_clientes == 0):\n",
    "                inf += 1\n",
    "                \n",
    "            fin += num_arvores_finitas\n",
    "            amostras.append(fin/(fin + inf))\n",
    "\n",
    "    print(f\"Fração árvores finitas: {mean(amostras):.6f}\")"
   ]
  },
  {
   "cell_type": "code",
   "execution_count": 70,
   "metadata": {},
   "outputs": [
    {
     "name": "stdout",
     "output_type": "stream",
     "text": [
      "----- Cenário: λ = 1, μ = 2, ρ = 0.5 -----\n",
      "Proporção Esperada de Árvores Finitas: 0.333333\n",
      "Proporção Obtida na Simulação: 0.180552\n",
      "----- Cenário: λ = 2, μ = 4, ρ = 0.5 -----\n",
      "Proporção Esperada de Árvores Finitas: 0.333333\n",
      "Proporção Obtida na Simulação: 0.604859\n",
      "----- Cenário: λ = 4, μ = 2, ρ = 2 -----\n",
      "Proporção Esperada de Árvores Finitas: 0.666667\n",
      "Proporção Obtida na Simulação: 0.000183\n"
     ]
    }
   ],
   "source": [
    "import numpy as np\n",
    "from collections import Counter\n",
    "\n",
    "def mm1_analytical(ρ):\n",
    "    L = ρ / (1 - ρ)\n",
    "    Lq = ρ**2 / (1 - ρ)\n",
    "    W = 1 / (2 - ρ)\n",
    "    Wq = ρ / (2 * (2 - ρ))\n",
    "    return {'L': L, 'Lq': Lq, 'W': W, 'Wq': Wq, 'ρ': ρ}\n",
    "\n",
    "# Cenários (λ, μ e ρ)\n",
    "cenarios = [\n",
    "    {'λ': 1, 'μ': 2, 'ρ': 0.5},\n",
    "    {'λ': 2, 'μ': 4, 'ρ': 0.5},\n",
    "    {'λ': 4, 'μ': 2, 'ρ': 2},\n",
    "]\n",
    "\n",
    "for cenario in cenarios:\n",
    "    print(f\"----- Cenário: λ = {cenario['λ']}, μ = {cenario['μ']}, ρ = {cenario['ρ']} -----\")\n",
    "    \n",
    "    result = simulador(lambda_=cenario['λ'], mi_=cenario['μ'], simulation_total_time=10000, deterministic=False)\n",
    "\n",
    "    # Resultados da simulação\n",
    "    # for key, value in result.items():\n",
    "    #     print(f\"{key}: {value}\")\n",
    "\n",
    "    # Proporção esperada de árvores finitas (de acordo com a heurística)\n",
    "    proporcao_esperada = cenario['λ'] / (cenario['λ'] + cenario['μ'])\n",
    "\n",
    "    # Proporção obtida na simulação\n",
    "    proporcao_obtida = result['Proporção de Árvores Finitas']\n",
    "\n",
    "    print(f\"Proporção Esperada de Árvores Finitas: {proporcao_esperada:.6f}\")\n",
    "    print(f\"Proporção Obtida na Simulação: {proporcao_obtida:.6f}\")\n",
    "\n"
   ]
  },
  {
   "cell_type": "markdown",
   "metadata": {},
   "source": [
    "### Cenário 1:  $λ= 1, μ= 2, ρ= 0.5$"
   ]
  },
  {
   "cell_type": "code",
   "execution_count": 83,
   "metadata": {},
   "outputs": [
    {
     "name": "stdout",
     "output_type": "stream",
     "text": [
      "6.817964882935544e-05\n"
     ]
    }
   ],
   "source": [
    "result = simulador(lambda_=12, mi_=10, simulation_total_time=10000, deterministic=False)\n",
    "print(result['Proporção de Árvores Finitas'])"
   ]
  },
  {
   "cell_type": "markdown",
   "metadata": {},
   "source": [
    "### Cenário 2:  $λ= 2, μ= 4, ρ= 0.5$"
   ]
  },
  {
   "cell_type": "code",
   "execution_count": 52,
   "metadata": {},
   "outputs": [
    {
     "name": "stdout",
     "output_type": "stream",
     "text": [
      "0.6172327044025158\n"
     ]
    }
   ],
   "source": [
    "result = simulador(lambda_=2, mi_=4, simulation_total_time=10000, deterministic=False)\n",
    "print(result['Proporção de Árvores Finitas'])"
   ]
  },
  {
   "cell_type": "markdown",
   "metadata": {},
   "source": [
    "### Cenário 2:  $λ= 4, μ= 2, ρ= 2$"
   ]
  },
  {
   "cell_type": "code",
   "execution_count": 60,
   "metadata": {},
   "outputs": [
    {
     "name": "stdout",
     "output_type": "stream",
     "text": [
      "4.9896049896049896e-05\n"
     ]
    }
   ],
   "source": [
    "result = simulador(lambda_=4, mi_=2, simulation_total_time=10000, deterministic=False)\n",
    "print(result['Proporção de Árvores Finitas'])"
   ]
  }
 ],
 "metadata": {
  "interpreter": {
   "hash": "f9f85f796d01129d0dd105a088854619f454435301f6ffec2fea96ecbd9be4ac"
  },
  "kernelspec": {
   "display_name": "Python 3.9.16 64-bit",
   "language": "python",
   "name": "python3"
  },
  "language_info": {
   "codemirror_mode": {
    "name": "ipython",
    "version": 3
   },
   "file_extension": ".py",
   "mimetype": "text/x-python",
   "name": "python",
   "nbconvert_exporter": "python",
   "pygments_lexer": "ipython3",
   "version": "3.9.13"
  },
  "orig_nbformat": 4
 },
 "nbformat": 4,
 "nbformat_minor": 2
}
