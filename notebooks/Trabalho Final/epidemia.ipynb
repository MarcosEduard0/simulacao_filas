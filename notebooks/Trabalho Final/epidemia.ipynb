{
 "cells": [
  {
   "cell_type": "markdown",
   "metadata": {},
   "source": [
    "# Epidemias \n",
    "Em cada um dos casos\n",
    "1. M/M/1: ρ = 0.5, λ = 1, μ = 2\n",
    "2. M/M/1: ρ = 0.5, λ = 2, μ = 4\n",
    "3. M/M/1: ρ = 2, λ = 4, μ = 2"
   ]
  },
  {
   "cell_type": "code",
   "execution_count": 3,
   "metadata": {},
   "outputs": [],
   "source": [
    "import numpy as np\n",
    "from functions import *\n"
   ]
  },
  {
   "cell_type": "code",
   "execution_count": 4,
   "metadata": {},
   "outputs": [],
   "source": [
    "# Poisson offspring distribution\n",
    "def branch_poisson(n, lam):\n",
    "    z = np.zeros(n + 1)\n",
    "    z[0] = 1\n",
    "    for i in range(1, n + 1):\n",
    "        z[i] = np.sum(np.random.poisson(lam, int(z[i - 1])))\n",
    "    return z"
   ]
  },
  {
   "cell_type": "code",
   "execution_count": 5,
   "metadata": {},
   "outputs": [
    {
     "name": "stdout",
     "output_type": "stream",
     "text": [
      "----- Cenário: λ = 1, μ = 2 -----\n",
      "Fração árvores finitas: 0.999600\n",
      "Intervalo de confiança: (0.9992734880974129, 0.999294511902587)\n",
      "\n",
      "\n",
      "----- Cenário: λ = 2, μ = 4 -----\n",
      "Fração árvores finitas: 0.999800\n",
      "Intervalo de confiança: (0.9993544510557651, 0.9993735489442349)\n",
      "\n",
      "\n",
      "----- Cenário: λ = 4, μ = 2 -----\n",
      "Fração árvores finitas: 0.201600\n",
      "Intervalo de confiança: (0.20387621917991117, 0.2041477808200889)\n",
      "\n",
      "\n"
     ]
    }
   ],
   "source": [
    "#Cenários (λ, μ)\n",
    "cenarios = [\n",
    "    {'λ': 1, 'μ': 2},\n",
    "    {'λ': 2, 'μ': 4},\n",
    "    {'λ': 4, 'μ': 2},\n",
    "]\n",
    "\n",
    "n = 5000\n",
    "\n",
    "for cenario in cenarios:\n",
    "    print(f\"----- Cenário: λ = {cenario['λ']}, μ = {cenario['μ']} -----\")\n",
    "\n",
    "    simlist = np.array([branch_poisson(10, cenario['λ'] / cenario['μ'])[10] for _ in range(n)])\n",
    "    fracao_arvore_finita = np.sum(simlist == 0) / n\n",
    "    print(f\"Fração árvores finitas: {np.mean(fracao_arvore_finita):.6f}\")\n",
    "\n",
    "    # Intervalo de confiança\n",
    "    fracoes = []\n",
    "    for _ in range(50):\n",
    "        fracoes.append(fracao_arvore_finita)\n",
    "        simlist = np.array([branch_poisson(10, cenario['λ'] / cenario['μ'])[10] for _ in range(n)])\n",
    "        fracao_arvore_finita = np.sum(simlist == 0) / n\n",
    "\n",
    "    intervalo = intervalo_confianca(fracoes, 0.95, n)\n",
    "    print(f\"Intervalo de confiança: {intervalo}\")\n",
    "\n",
    "    print(\"\\n\")"
   ]
  }
 ],
 "metadata": {
  "interpreter": {
   "hash": "f9f85f796d01129d0dd105a088854619f454435301f6ffec2fea96ecbd9be4ac"
  },
  "kernelspec": {
   "display_name": "Python 3.9.16 64-bit",
   "language": "python",
   "name": "python3"
  },
  "language_info": {
   "codemirror_mode": {
    "name": "ipython",
    "version": 3
   },
   "file_extension": ".py",
   "mimetype": "text/x-python",
   "name": "python",
   "nbconvert_exporter": "python",
   "pygments_lexer": "ipython3",
   "version": "3.9.16"
  },
  "orig_nbformat": 4
 },
 "nbformat": 4,
 "nbformat_minor": 2
}
