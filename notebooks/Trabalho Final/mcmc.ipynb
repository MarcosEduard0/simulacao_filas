{
 "cells": [
  {
   "cell_type": "code",
   "execution_count": 53,
   "metadata": {},
   "outputs": [],
   "source": [
    "from functions import simulador\n",
    "import math\n",
    "import numpy as np\n",
    "import matplotlib.pyplot as plt\n",
    "from scipy.stats import norm"
   ]
  },
  {
   "cell_type": "markdown",
   "metadata": {},
   "source": [
    "Função de Simulação para Obter Trace:"
   ]
  },
  {
   "cell_type": "code",
   "execution_count": 28,
   "metadata": {},
   "outputs": [],
   "source": [
    "def simulate_and_get_filtered_mm1_trace(lambda_, mu_):\n",
    "    # Supondo que 'simulador' seja a função que realiza a simulação\n",
    "    data = simulador(lambda_, mu_, tempo_total_simulacao=10000)['trace']\n",
    "\n",
    "    # Filtrar os eventos de saída\n",
    "    filtered_served_events = data[data['Evento'] == 'Saida']\n",
    "\n",
    "    # Criar a lista 'trace' usando\n",
    "    trace = [num_clientes_na_fila for num_clientes_na_fila in filtered_served_events['Numero de clientes na fila']]\n",
    "\n",
    "    return trace"
   ]
  },
  {
   "cell_type": "markdown",
   "metadata": {},
   "source": [
    "Funções Auxiliares para Plotar Gráficos de PDF e CDF:"
   ]
  },
  {
   "cell_type": "code",
   "execution_count": 35,
   "metadata": {},
   "outputs": [],
   "source": [
    "def plot_rho(samples, bins=100, cumulative=False):\n",
    "    weights = np.ones_like(samples) / len(samples)\n",
    "\n",
    "    if cumulative:\n",
    "        plt.hist(samples, weights=weights, bins=bins, cumulative=True)\n",
    "    else:\n",
    "        plt.hist(samples, weights=weights, bins=bins)\n",
    "\n",
    "    plt.xlabel('Valor')\n",
    "    plt.ylabel('Frequência relativa')\n",
    "    plt.grid(True)"
   ]
  },
  {
   "cell_type": "markdown",
   "metadata": {},
   "source": [
    "Algoritmo MCMC de Inferência:"
   ]
  },
  {
   "cell_type": "code",
   "execution_count": 49,
   "metadata": {},
   "outputs": [],
   "source": [
    "def calc_metropolis_hastings_acceptance_ratio(proposal, current, traceSum, traceLength):\n",
    "    '''\n",
    "    A fórmula da distribuição f(rho|v), como introduzida no enunciado do trabalho, resultaria na seguinte razão (a distribuição de proposta é omitida por ser simétrica):\n",
    "      ((proposal**traceSum * (1 - proposal)**traceLength) * K) / ((current**traceSum * (1 - current)**traceLength) * K)\n",
    "    A constante K estará presente tanto no numerador quando denominador, podendo ser eliminada:\n",
    "      (proposal**traceSum * (1 - proposal)**traceLength) / (current**traceSum * (1 - current)**traceLength)\n",
    "    A expressão acima, conteria no numerador e denominador números extremamente pequenos devido aos expoentes presentes.\n",
    "    Desse modo, aplicamos a função exponencial e logaritmica sequencialmente para evitar divisões por zero e números infinitos causados por erros de precisão:\n",
    "    '''\n",
    "    log_numer = traceSum * np.log(proposal) + traceLength * np.log(1 - proposal)\n",
    "    log_denom = traceSum * np.log(current) + traceLength * np.log(1 - current)\n",
    "    log_ratio = log_numer - log_denom\n",
    "    \n",
    "    if log_ratio >= 0:\n",
    "        return 1\n",
    "    else:\n",
    "        return np.exp(log_ratio)\n",
    "\n",
    "def mcmc_sample_rho_given_trace(traceSum, traceLength, initialRho=0.5, iterations=100000, burnIn=1000):\n",
    "\n",
    "    currentRho = initialRho\n",
    "    totalAccepted = 0\n",
    "    totalRejected = 0\n",
    "\n",
    "    # METROPOLIS-HASTINGS\n",
    "    doneWithBurnIn = False\n",
    "    for i in range(iterations):\n",
    "        if i >= burnIn and not doneWithBurnIn:\n",
    "            samples = [currentRho]\n",
    "            doneWithBurnIn = True\n",
    "        proposalRho = np.random.uniform(0, 1)\n",
    "        acceptanceRatio = calc_metropolis_hastings_acceptance_ratio(proposalRho, currentRho, traceSum, traceLength)\n",
    "        if acceptanceRatio >= 1 or acceptanceRatio > np.random.uniform(0, 1):\n",
    "            currentRho = proposalRho\n",
    "            if doneWithBurnIn:\n",
    "                samples.append(proposalRho)\n",
    "                totalAccepted += 1\n",
    "        elif doneWithBurnIn:\n",
    "            samples.append(currentRho)\n",
    "            totalRejected += 1\n",
    "    \n",
    "\n",
    "    print('Valor médio de Rho a partir do MCMC: ', np.mean(samples))\n",
    "    print('Variância: ', np.var(samples))\n",
    "    \n",
    "    return samples"
   ]
  },
  {
   "cell_type": "markdown",
   "metadata": {},
   "source": [
    "Executando"
   ]
  },
  {
   "cell_type": "code",
   "execution_count": 50,
   "metadata": {},
   "outputs": [
    {
     "name": "stdout",
     "output_type": "stream",
     "text": [
      "Valor médio de Rho a partir do MCMC:  0.6977528172950368\n",
      "Variância:  9.731681776522295e-07\n",
      "m =  69671\n",
      "y =  160824\n"
     ]
    }
   ],
   "source": [
    "trace = simulate_and_get_filtered_mm1_trace(lambda_=7, mu_=10)\n",
    "samples = mcmc_sample_rho_given_trace(traceSum=sum(trace), traceLength=len(trace), iterations=1000000, initialRho=0.5, burnIn=1000)\n",
    "print('m = ', len(trace))\n",
    "print('y = ', sum(trace))"
   ]
  },
  {
   "cell_type": "code",
   "execution_count": 51,
   "metadata": {},
   "outputs": [
    {
     "data": {
      "image/png": "[encoded data removed]",
      "text/plain": [
       "<Figure size 432x288 with 1 Axes>"
      ]
     },
     "metadata": {
      "needs_background": "light"
     },
     "output_type": "display_data"
    }
   ],
   "source": [
    "plot_rho(samples, bins=100)"
   ]
  },
  {
   "cell_type": "code",
   "execution_count": 52,
   "metadata": {},
   "outputs": [
    {
     "data": {
      "image/png": "[encoded data removed]",
      "text/plain": [
       "<Figure size 432x288 with 1 Axes>"
      ]
     },
     "metadata": {
      "needs_background": "light"
     },
     "output_type": "display_data"
    }
   ],
   "source": [
    "plot_rho(samples, bins=100, cumulative=True)"
   ]
  },
  {
   "cell_type": "markdown",
   "metadata": {},
   "source": [
    "Validação de Corretude (demora para rodar):"
   ]
  },
  {
   "cell_type": "code",
   "execution_count": 54,
   "metadata": {},
   "outputs": [],
   "source": [
    "def get_confidence_interval(samples, confidence_rate=0.95):\n",
    "    x = np.mean(samples)\n",
    "    n = len(samples)\n",
    "    s = np.std(samples)\n",
    "    z = norm.ppf((1 + confidence_rate) / 2)  # Valor crítico do intervalo de confiança\n",
    "\n",
    "    lower_bound = x - z * (s / np.sqrt(n))\n",
    "    upper_bound = x + z * (s / np.sqrt(n))\n",
    "\n",
    "    return (lower_bound, upper_bound)"
   ]
  },
  {
   "cell_type": "code",
   "execution_count": 55,
   "metadata": {},
   "outputs": [],
   "source": [
    "def simulate_traces_and_estimate_rho(lamda, mu, number_of_traces=10000):\n",
    "    estimates = [np.mean(mcmc_sample_rho_given_trace(sum(simulate_and_get_filtered_mm1_trace(lamda, mu)), len(trace))) for _ in range(number_of_traces)]\n",
    "\n",
    "    real_rho = lamda / mu\n",
    "    average_rho = np.mean(estimates)\n",
    "    confidence_interval = get_confidence_interval(estimates)\n",
    "\n",
    "    print(f'Real Rho: {real_rho}')\n",
    "    print(f'Average of Estimated Rhos: {average_rho}')\n",
    "    print(f'Confidence Interval: {confidence_interval}')\n",
    "\n",
    "    return estimates\n"
   ]
  },
  {
   "cell_type": "markdown",
   "metadata": {},
   "source": [
    "## 6.2 Casos Especiais"
   ]
  },
  {
   "cell_type": "markdown",
   "metadata": {},
   "source": [
    "### a) $m=100, y=\\sum v_i = 25$"
   ]
  },
  {
   "cell_type": "code",
   "execution_count": 57,
   "metadata": {},
   "outputs": [
    {
     "name": "stdout",
     "output_type": "stream",
     "text": [
      "Valor médio de Rho a partir do MCMC:  0.7955272269558225\n",
      "Variância:  0.0012661977763090682\n",
      "m =  100\n",
      "y =  25\n"
     ]
    }
   ],
   "source": [
    "m = 100\n",
    "v = 25\n",
    "samples = mcmc_sample_rho_given_trace(traceSum=m, traceLength=v, iterations=1000000, initialRho=0.5, burnIn=1000)\n",
    "print('m = ', m)\n",
    "print('y = ', v)"
   ]
  },
  {
   "cell_type": "markdown",
   "metadata": {},
   "source": [
    "### b) $m=100, y=\\sum v_i = 100$"
   ]
  },
  {
   "cell_type": "code",
   "execution_count": 58,
   "metadata": {},
   "outputs": [
    {
     "name": "stdout",
     "output_type": "stream",
     "text": [
      "Valor médio de Rho a partir do MCMC:  0.5001344311919568\n",
      "Variância:  0.0012361544334565343\n",
      "m =  100\n",
      "y =  100\n"
     ]
    }
   ],
   "source": [
    "m = 100\n",
    "v = 100\n",
    "samples = mcmc_sample_rho_given_trace(traceSum=m, traceLength=v, iterations=1000000, initialRho=0.5, burnIn=1000)\n",
    "print('m = ', m)\n",
    "print('y = ', v)"
   ]
  },
  {
   "cell_type": "markdown",
   "metadata": {},
   "source": [
    "### c)"
   ]
  },
  {
   "cell_type": "markdown",
   "metadata": {},
   "source": [
    "### d) "
   ]
  }
 ],
 "metadata": {
  "kernelspec": {
   "display_name": "Python 3",
   "language": "python",
   "name": "python3"
  },
  "language_info": {
   "codemirror_mode": {
    "name": "ipython",
    "version": 3
   },
   "file_extension": ".py",
   "mimetype": "text/x-python",
   "name": "python",
   "nbconvert_exporter": "python",
   "pygments_lexer": "ipython3",
   "version": "3.9.4"
  },
  "orig_nbformat": 4
 },
 "nbformat": 4,
 "nbformat_minor": 2
}
