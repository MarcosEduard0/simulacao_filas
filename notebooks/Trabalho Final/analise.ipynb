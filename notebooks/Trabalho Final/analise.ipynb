{
 "cells": [
  {
   "cell_type": "code",
   "execution_count": 1,
   "metadata": {},
   "outputs": [],
   "source": [
    "import numpy as np\n"
   ]
  },
  {
   "cell_type": "code",
   "execution_count": 2,
   "metadata": {},
   "outputs": [
    {
     "data": {
      "text/plain": [
       "array([[0.66666667, 0.33333333, 0.        , 0.        ],\n",
       "       [0.66666667, 0.        , 0.33333333, 0.        ],\n",
       "       [0.        , 0.66666667, 0.        , 0.33333333],\n",
       "       [0.        , 0.        , 0.66666667, 0.33333333]])"
      ]
     },
     "execution_count": 2,
     "metadata": {},
     "output_type": "execute_result"
    }
   ],
   "source": [
    "Q = np.array([[-1,1,0,0],\n",
    "         [2,-3,1,0],\n",
    "         [0,2,-3,1],\n",
    "         [0,0,2,-2]])\n",
    "I = np.identity(4)\n",
    "\n",
    "P = (1/3) * Q + I\n",
    "P"
   ]
  },
  {
   "cell_type": "code",
   "execution_count": 3,
   "metadata": {},
   "outputs": [
    {
     "data": {
      "text/plain": [
       "array([[0.53333333, 0.26666667, 0.13333333, 0.06666667],\n",
       "       [0.53333333, 0.26666667, 0.13333333, 0.06666667],\n",
       "       [0.53333333, 0.26666667, 0.13333333, 0.06666667],\n",
       "       [0.53333333, 0.26666667, 0.13333333, 0.06666667]])"
      ]
     },
     "execution_count": 3,
     "metadata": {},
     "output_type": "execute_result"
    }
   ],
   "source": [
    "np.linalg.matrix_power(P,50)"
   ]
  }
 ],
 "metadata": {
  "kernelspec": {
   "display_name": "Python 3",
   "language": "python",
   "name": "python3"
  },
  "language_info": {
   "codemirror_mode": {
    "name": "ipython",
    "version": 3
   },
   "file_extension": ".py",
   "mimetype": "text/x-python",
   "name": "python",
   "nbconvert_exporter": "python",
   "pygments_lexer": "ipython3",
   "version": "3.9.4"
  },
  "orig_nbformat": 4
 },
 "nbformat": 4,
 "nbformat_minor": 2
}
