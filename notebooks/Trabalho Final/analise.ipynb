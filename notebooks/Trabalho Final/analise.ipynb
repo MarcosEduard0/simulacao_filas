{
 "cells": [
  {
   "cell_type": "code",
   "execution_count": 1,
   "metadata": {},
   "outputs": [],
   "source": [
    "import numpy as np\n"
   ]
  },
  {
   "cell_type": "code",
   "execution_count": 2,
   "metadata": {},
   "outputs": [
    {
     "data": {
      "text/plain": [
       "array([[0.66666667, 0.33333333, 0.        , 0.        ],\n",
       "       [0.66666667, 0.        , 0.33333333, 0.        ],\n",
       "       [0.        , 0.66666667, 0.        , 0.33333333],\n",
       "       [0.        , 0.        , 0.66666667, 0.33333333]])"
      ]
     },
     "execution_count": 2,
     "metadata": {},
     "output_type": "execute_result"
    }
   ],
   "source": [
    "Q = np.array([[-1,1,0,0],\n",
    "         [2,-3,1,0],\n",
    "         [0,2,-3,1],\n",
    "         [0,0,2,-2]])\n",
    "I = np.identity(4)\n",
    "\n",
    "P = (1/3) * Q + I\n",
    "P"
   ]
  },
  {
   "cell_type": "code",
   "execution_count": 3,
   "metadata": {},
   "outputs": [
    {
     "data": {
      "text/plain": [
       "array([[0.53333333, 0.26666667, 0.13333333, 0.06666667],\n",
       "       [0.53333333, 0.26666667, 0.13333333, 0.06666667],\n",
       "       [0.53333333, 0.26666667, 0.13333333, 0.06666667],\n",
       "       [0.53333333, 0.26666667, 0.13333333, 0.06666667]])"
      ]
     },
     "execution_count": 3,
     "metadata": {},
     "output_type": "execute_result"
    }
   ],
   "source": [
    "np.linalg.matrix_power(P,50)"
   ]
  },
  {
   "cell_type": "code",
   "execution_count": 10,
   "metadata": {},
   "outputs": [],
   "source": [
    "def q1analitica(lambda_):\n",
    "    s_initial_guess = 0.5\n",
    "    s_solution = fsolve(lambda s: exp(lambda_ * (s - 1)) - s, s_initial_guess)\n",
    "\n",
    "    return s_solution[0]"
   ]
  },
  {
   "cell_type": "code",
   "execution_count": 1,
   "metadata": {},
   "outputs": [],
   "source": [
    "import numpy as np\n",
    "import pandas as pd\n",
    "from math import sqrt\n",
    "from collections import Counter"
   ]
  },
  {
   "cell_type": "code",
   "execution_count": 13,
   "metadata": {},
   "outputs": [],
   "source": [
    "def simulador(lambda_=1, mi_=2, tempo_total_simulacao=10000, deterministico=False):\n",
    "    n = tempo_simulacao = num_chegadas = tempo_ocupado_servidor = 0\n",
    "    clientes_fila, chegadas, freq_clientes, tempo_clientes_fila, tempo_clientes_sistema, tempo_espera_sistema = [], [], [], [], [], []\n",
    "\n",
    "    exponential = (lambda mi: 1 / mi) if deterministico else (\n",
    "        lambda mi: np.random.exponential(scale=1 / mi))\n",
    "\n",
    "    while tempo_simulacao < tempo_total_simulacao:\n",
    "        tempo_chegada = np.random.exponential(scale=1 / lambda_)\n",
    "        tempo_saida = exponential(mi_)\n",
    "        last_event_time = tempo_simulacao\n",
    "\n",
    "        if n == 0 or tempo_chegada < tempo_saida:\n",
    "            if n == 0:\n",
    "                freq_clientes.append(len(clientes_fila))\n",
    "\n",
    "            tempo_simulacao += tempo_chegada\n",
    "            num_chegadas += 1\n",
    "            tempo_clientes_sistema.append(\n",
    "                (tempo_simulacao - last_event_time) * n)\n",
    "            chegadas.append(tempo_simulacao)\n",
    "            n += 1\n",
    "\n",
    "            if n > 1:\n",
    "                clientes_fila.append(tempo_simulacao)\n",
    "                tempo_ocupado_servidor += tempo_chegada\n",
    "                freq_clientes.append(len(clientes_fila))\n",
    "\n",
    "        else:\n",
    "            tempo_simulacao += tempo_saida\n",
    "            tempo_clientes_sistema.append(\n",
    "                (tempo_simulacao - last_event_time) * n)\n",
    "\n",
    "            if len(clientes_fila):\n",
    "                tempo_clientes_fila.append(tempo_simulacao - clientes_fila.pop(0))\n",
    "\n",
    "            tempo_espera_sistema.append(tempo_simulacao - chegadas.pop(0))\n",
    "            tempo_ocupado_servidor += tempo_saida\n",
    "            n -= 1\n",
    "\n",
    "    soma_tempo_clientes_fila = sum(tempo_clientes_fila)\n",
    "    soma_tempo_clientes_sistema = sum(tempo_clientes_sistema)\n",
    "\n",
    "    Wq = soma_tempo_clientes_fila / num_chegadas\n",
    "    W = soma_tempo_clientes_sistema / num_chegadas\n",
    "    L = soma_tempo_clientes_sistema / tempo_simulacao\n",
    "    Lq = soma_tempo_clientes_fila / tempo_simulacao\n",
    "    rho = tempo_ocupado_servidor / tempo_simulacao\n",
    "    pi = Counter(freq_clientes)\n",
    "\n",
    "    for valor, freq in pi.items():\n",
    "        pi[valor] = round(freq / num_chegadas, 6)\n",
    "\n",
    "    results = {\n",
    "        'Total de Clientes': num_chegadas,\n",
    "        'Clientes Restantes': n,\n",
    "        'Tempo Total': tempo_simulacao,\n",
    "        'Tempo Espera Sistema': tempo_espera_sistema,\n",
    "        'Wq': Wq,\n",
    "        'W': W,\n",
    "        'L': L,\n",
    "        'Lq': Lq,\n",
    "        'rho': rho,\n",
    "        'pi': pi,\n",
    "    }\n",
    "\n",
    "    return results"
   ]
  },
  {
   "cell_type": "code",
   "execution_count": 19,
   "metadata": {},
   "outputs": [],
   "source": [
    "\n",
    "\n",
    "# Função para calcular a fração de árvores finitas usando o seu simulador\n",
    "def q1numerica(lamda, mu, numSimulacoes=60, minimoParaInfinitude=300, runs=50, max_time=2000, max_events=2000):\n",
    "    listaAmostras = []\n",
    "\n",
    "    for i in range(0, numSimulacoes):\n",
    "        # Utilizando o seu simulador para obter os resultados da simulação\n",
    "        results = simulador(lambda_=lamda, mi_=mu, tempo_total_simulacao=max_time)\n",
    "        num_chegadas = results['Total de Clientes']\n",
    "        n = results['Clientes Restantes']\n",
    "        clientes_fila = results['Fila Clientes'][0] if 0 in results['Fila Clientes'] else 0\n",
    "\n",
    "        arvoresFinitas = n\n",
    "        arvoresInfinitas = 0 if clientes_fila == 0 else 1\n",
    "\n",
    "        listaAmostras.append(arvoresFinitas / (arvoresFinitas + arvoresInfinitas))\n",
    "\n",
    "    # Tiramos a média e intervalo de confiança\n",
    "    amostras = pd.Series(listaAmostras)\n",
    "    media = amostras.mean()\n",
    "    z = 1.96\n",
    "    s = amostras.std()\n",
    "    n = numSimulacoes\n",
    "    intervalo = (media - z * (s / sqrt(n)), media + z * (s / sqrt(n)))\n",
    "\n",
    "    print(\"\\tFração de árvores finitas (resultado numérico):\", media)\n",
    "    print(\"\\tIntervalo de confiança:\", intervalo)\n"
   ]
  },
  {
   "cell_type": "code",
   "execution_count": 14,
   "metadata": {},
   "outputs": [],
   "source": [
    "results = simulador(lambda_=4, mi_=2, tempo_total_simulacao=10000)\n"
   ]
  },
  {
   "cell_type": "code",
   "execution_count": 21,
   "metadata": {},
   "outputs": [
    {
     "name": "stdout",
     "output_type": "stream",
     "text": [
      "\tFração de árvores finitas (resultado numérico): 0.9997515140758936\n",
      "\tIntervalo de confiança: (0.9997498419722083, 0.9997531861795789)\n"
     ]
    }
   ],
   "source": [
    "q1numerica(4,2)"
   ]
  }
 ],
 "metadata": {
  "kernelspec": {
   "display_name": "Python 3",
   "language": "python",
   "name": "python3"
  },
  "language_info": {
   "codemirror_mode": {
    "name": "ipython",
    "version": 3
   },
   "file_extension": ".py",
   "mimetype": "text/x-python",
   "name": "python",
   "nbconvert_exporter": "python",
   "pygments_lexer": "ipython3",
   "version": "3.9.4"
  },
  "orig_nbformat": 4
 },
 "nbformat": 4,
 "nbformat_minor": 2
}
