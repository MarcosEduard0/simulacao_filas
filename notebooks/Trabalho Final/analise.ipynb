{
 "cells": [
  {
   "cell_type": "code",
   "execution_count": 1,
   "metadata": {},
   "outputs": [],
   "source": [
    "import numpy as np\n"
   ]
  },
  {
   "cell_type": "code",
   "execution_count": 2,
   "metadata": {},
   "outputs": [
    {
     "data": {
      "text/plain": [
       "array([[0.66666667, 0.33333333, 0.        , 0.        ],\n",
       "       [0.66666667, 0.        , 0.33333333, 0.        ],\n",
       "       [0.        , 0.66666667, 0.        , 0.33333333],\n",
       "       [0.        , 0.        , 0.66666667, 0.33333333]])"
      ]
     },
     "execution_count": 2,
     "metadata": {},
     "output_type": "execute_result"
    }
   ],
   "source": [
    "Q = np.array([[-1,1,0,0],\n",
    "         [2,-3,1,0],\n",
    "         [0,2,-3,1],\n",
    "         [0,0,2,-2]])\n",
    "I = np.identity(4)\n",
    "\n",
    "P = (1/3) * Q + I\n",
    "P"
   ]
  },
  {
   "cell_type": "code",
   "execution_count": 3,
   "metadata": {},
   "outputs": [
    {
     "data": {
      "text/plain": [
       "array([[0.53333333, 0.26666667, 0.13333333, 0.06666667],\n",
       "       [0.53333333, 0.26666667, 0.13333333, 0.06666667],\n",
       "       [0.53333333, 0.26666667, 0.13333333, 0.06666667],\n",
       "       [0.53333333, 0.26666667, 0.13333333, 0.06666667]])"
      ]
     },
     "execution_count": 3,
     "metadata": {},
     "output_type": "execute_result"
    }
   ],
   "source": [
    "np.linalg.matrix_power(P,50)"
   ]
  },
  {
   "cell_type": "code",
   "execution_count": 1,
   "metadata": {},
   "outputs": [],
   "source": [
    "import numpy as np\n",
    "import pandas as pd\n",
    "from math import sqrt\n",
    "from collections import Counter"
   ]
  },
  {
   "cell_type": "code",
   "execution_count": 76,
   "metadata": {},
   "outputs": [],
   "source": [
    "def simulador(lambda_=1, mi_=2, tempo_total_simulacao=10000, deterministico=False):\n",
    "    n = tempo_simulacao = num_chegadas = tempo_ocupado_servidor = 0\n",
    "    clientes_fila, chegadas, freq_clientes, tempo_clientes_fila, tempo_clientes_sistema, tempo_espera_sistema = [], [], [], [], [], []\n",
    "\n",
    "    exponential = (lambda mi: 1 / mi) if deterministico else (\n",
    "        lambda mi: np.random.exponential(scale=1 / mi))\n",
    "\n",
    "    trace = {'Numero de clientes na fila': [],\n",
    "             'Evento': [],\n",
    "             'Tempo': [],\n",
    "    }\n",
    "    while tempo_simulacao < tempo_total_simulacao:\n",
    "        tempo_chegada = np.random.exponential(scale=1 / lambda_)\n",
    "        tempo_saida = exponential(mi_)\n",
    "        last_event_time = tempo_simulacao\n",
    "\n",
    "        if n == 0 or tempo_chegada < tempo_saida:\n",
    "            tempo_simulacao += tempo_chegada\n",
    "            num_chegadas += 1\n",
    "            tempo_clientes_sistema.append(\n",
    "                (tempo_simulacao - last_event_time) * n)\n",
    "            \n",
    "            chegadas.append(tempo_simulacao)\n",
    "\n",
    "            if n == 0:\n",
    "                freq_clientes.append(len(clientes_fila))\n",
    "                \n",
    "            n += 1\n",
    "            if n > 1:\n",
    "                clientes_fila.append(tempo_simulacao)\n",
    "                tempo_ocupado_servidor += tempo_chegada\n",
    "                freq_clientes.append(len(clientes_fila))\n",
    "\n",
    "            trace['Numero de clientes na fila'].append(n)\n",
    "            trace['Evento'].append('Chegada')\n",
    "            trace['Tempo'].append(tempo_simulacao)\n",
    "\n",
    "        else:\n",
    "            tempo_simulacao += tempo_saida\n",
    "            tempo_clientes_sistema.append(\n",
    "                (tempo_simulacao - last_event_time) * n)\n",
    "\n",
    "            if len(clientes_fila):\n",
    "                tempo_clientes_fila.append(\n",
    "                    tempo_simulacao - clientes_fila.pop(0))\n",
    "\n",
    "            tempo_espera_sistema.append(tempo_simulacao - chegadas.pop(0))\n",
    "            tempo_ocupado_servidor += tempo_saida\n",
    "            n -= 1\n",
    "            \n",
    "            trace['Numero de clientes na fila'].append(n)\n",
    "            trace['Evento'].append('Saida')\n",
    "            trace['Tempo'].append(tempo_simulacao)\n",
    "\n",
    "\n",
    "    soma_tempo_clientes_fila = sum(tempo_clientes_fila)\n",
    "    soma_tempo_clientes_sistema = sum(tempo_clientes_sistema)\n",
    "\n",
    "    Wq = soma_tempo_clientes_fila / num_chegadas\n",
    "    W = soma_tempo_clientes_sistema / num_chegadas\n",
    "    L = soma_tempo_clientes_sistema / tempo_simulacao\n",
    "    Lq = soma_tempo_clientes_fila / tempo_simulacao\n",
    "    rho = tempo_ocupado_servidor / tempo_simulacao\n",
    "    pi = Counter(freq_clientes)\n",
    "\n",
    "    for valor, freq in pi.items():\n",
    "        pi[valor] = round(freq / num_chegadas, 6)\n",
    "\n",
    "    results = {\n",
    "        'Total de Clientes': num_chegadas,\n",
    "        'Clientes Restantes': n,\n",
    "        'Tempo Total': tempo_simulacao,\n",
    "        'Tempo Espera Sistema': tempo_espera_sistema,\n",
    "        'Wq': Wq,\n",
    "        'W': W,\n",
    "        'L': L,\n",
    "        'Lq': Lq,\n",
    "        'rho': rho,\n",
    "        'pi': pi,\n",
    "        'trace': pd.DataFrame(trace)\n",
    "    }\n",
    "\n",
    "    return results\n",
    "\n",
    "result = simulador(lambda_=1, mi_=2, tempo_total_simulacao=100000, deterministico=False)\n"
   ]
  },
  {
   "cell_type": "code",
   "execution_count": 77,
   "metadata": {},
   "outputs": [
    {
     "data": {
      "text/html": [
       "<div>\n",
       "<style scoped>\n",
       "    .dataframe tbody tr th:only-of-type {\n",
       "        vertical-align: middle;\n",
       "    }\n",
       "\n",
       "    .dataframe tbody tr th {\n",
       "        vertical-align: top;\n",
       "    }\n",
       "\n",
       "    .dataframe thead th {\n",
       "        text-align: right;\n",
       "    }\n",
       "</style>\n",
       "<table border=\"1\" class=\"dataframe\">\n",
       "  <thead>\n",
       "    <tr style=\"text-align: right;\">\n",
       "      <th></th>\n",
       "      <th>Numero de clientes na fila</th>\n",
       "      <th>Evento</th>\n",
       "      <th>Tempo</th>\n",
       "    </tr>\n",
       "  </thead>\n",
       "  <tbody>\n",
       "    <tr>\n",
       "      <th>0</th>\n",
       "      <td>1</td>\n",
       "      <td>Chegada</td>\n",
       "      <td>0.488316</td>\n",
       "    </tr>\n",
       "    <tr>\n",
       "      <th>1</th>\n",
       "      <td>2</td>\n",
       "      <td>Chegada</td>\n",
       "      <td>0.655974</td>\n",
       "    </tr>\n",
       "    <tr>\n",
       "      <th>2</th>\n",
       "      <td>3</td>\n",
       "      <td>Chegada</td>\n",
       "      <td>0.678672</td>\n",
       "    </tr>\n",
       "    <tr>\n",
       "      <th>3</th>\n",
       "      <td>4</td>\n",
       "      <td>Chegada</td>\n",
       "      <td>1.141949</td>\n",
       "    </tr>\n",
       "    <tr>\n",
       "      <th>4</th>\n",
       "      <td>3</td>\n",
       "      <td>Saida</td>\n",
       "      <td>1.444059</td>\n",
       "    </tr>\n",
       "    <tr>\n",
       "      <th>...</th>\n",
       "      <td>...</td>\n",
       "      <td>...</td>\n",
       "      <td>...</td>\n",
       "    </tr>\n",
       "    <tr>\n",
       "      <th>201128</th>\n",
       "      <td>1</td>\n",
       "      <td>Chegada</td>\n",
       "      <td>99995.083765</td>\n",
       "    </tr>\n",
       "    <tr>\n",
       "      <th>201129</th>\n",
       "      <td>0</td>\n",
       "      <td>Saida</td>\n",
       "      <td>99995.351691</td>\n",
       "    </tr>\n",
       "    <tr>\n",
       "      <th>201130</th>\n",
       "      <td>1</td>\n",
       "      <td>Chegada</td>\n",
       "      <td>99998.716675</td>\n",
       "    </tr>\n",
       "    <tr>\n",
       "      <th>201131</th>\n",
       "      <td>0</td>\n",
       "      <td>Saida</td>\n",
       "      <td>99999.321420</td>\n",
       "    </tr>\n",
       "    <tr>\n",
       "      <th>201132</th>\n",
       "      <td>1</td>\n",
       "      <td>Chegada</td>\n",
       "      <td>100000.846086</td>\n",
       "    </tr>\n",
       "  </tbody>\n",
       "</table>\n",
       "<p>201133 rows × 3 columns</p>\n",
       "</div>"
      ],
      "text/plain": [
       "        Numero de clientes na fila   Evento          Tempo\n",
       "0                                1  Chegada       0.488316\n",
       "1                                2  Chegada       0.655974\n",
       "2                                3  Chegada       0.678672\n",
       "3                                4  Chegada       1.141949\n",
       "4                                3    Saida       1.444059\n",
       "...                            ...      ...            ...\n",
       "201128                           1  Chegada   99995.083765\n",
       "201129                           0    Saida   99995.351691\n",
       "201130                           1  Chegada   99998.716675\n",
       "201131                           0    Saida   99999.321420\n",
       "201132                           1  Chegada  100000.846086\n",
       "\n",
       "[201133 rows x 3 columns]"
      ]
     },
     "execution_count": 77,
     "metadata": {},
     "output_type": "execute_result"
    }
   ],
   "source": [
    "result['trace']"
   ]
  },
  {
   "cell_type": "code",
   "execution_count": 25,
   "metadata": {},
   "outputs": [],
   "source": [
    "from functions import valor_analitico"
   ]
  },
  {
   "cell_type": "code",
   "execution_count": 26,
   "metadata": {},
   "outputs": [
    {
     "data": {
      "text/html": [
       "<div>\n",
       "<style scoped>\n",
       "    .dataframe tbody tr th:only-of-type {\n",
       "        vertical-align: middle;\n",
       "    }\n",
       "\n",
       "    .dataframe tbody tr th {\n",
       "        vertical-align: top;\n",
       "    }\n",
       "\n",
       "    .dataframe thead th {\n",
       "        text-align: right;\n",
       "    }\n",
       "</style>\n",
       "<table border=\"1\" class=\"dataframe\">\n",
       "  <thead>\n",
       "    <tr style=\"text-align: right;\">\n",
       "      <th></th>\n",
       "      <th>Simulado</th>\n",
       "      <th>Analítico</th>\n",
       "    </tr>\n",
       "  </thead>\n",
       "  <tbody>\n",
       "    <tr>\n",
       "      <th>Tempo médio do cliente no sistema (L)</th>\n",
       "      <td>1.0</td>\n",
       "      <td>1.0</td>\n",
       "    </tr>\n",
       "    <tr>\n",
       "      <th>Tempo médio de cliente na fila (Lq)</th>\n",
       "      <td>0.5</td>\n",
       "      <td>0.5</td>\n",
       "    </tr>\n",
       "    <tr>\n",
       "      <th>Número médio de clientes no sistema (W)</th>\n",
       "      <td>1.0</td>\n",
       "      <td>1.0</td>\n",
       "    </tr>\n",
       "    <tr>\n",
       "      <th>Número médio de clientes na fila (Wq)</th>\n",
       "      <td>0.5</td>\n",
       "      <td>0.5</td>\n",
       "    </tr>\n",
       "    <tr>\n",
       "      <th>Probabilidade do sistema ocupado (p)</th>\n",
       "      <td>0.5</td>\n",
       "      <td>0.5</td>\n",
       "    </tr>\n",
       "  </tbody>\n",
       "</table>\n",
       "</div>"
      ],
      "text/plain": [
       "                                         Simulado  Analítico\n",
       "Tempo médio do cliente no sistema (L)         1.0        1.0\n",
       "Tempo médio de cliente na fila (Lq)           0.5        0.5\n",
       "Número médio de clientes no sistema (W)       1.0        1.0\n",
       "Número médio de clientes na fila (Wq)         0.5        0.5\n",
       "Probabilidade do sistema ocupado (p)          0.5        0.5"
      ]
     },
     "execution_count": 26,
     "metadata": {},
     "output_type": "execute_result"
    }
   ],
   "source": [
    "lambda_ =1\n",
    "mi_ = 2\n",
    "result = simulador(lambda_=lambda_, mi_=mi_, tempo_total_simulacao=100000, deterministico=False)\n",
    "\n",
    "# Index\n",
    "indices = ['Tempo médio do cliente no sistema (L)',\n",
    "           'Tempo médio de cliente na fila (Lq)',\n",
    "           'Número médio de clientes no sistema (W)',\n",
    "           'Número médio de clientes na fila (Wq)',\n",
    "           'Probabilidade do sistema ocupado (p)']\n",
    "\n",
    "# Valor Simulado\n",
    "data_simulado = [\n",
    "        result['L'],\n",
    "        result['Lq'],\n",
    "        result['W'],\n",
    "        result['Wq'],\n",
    "        result['rho']]\n",
    "\n",
    "def custom_round(value):\n",
    "    return round(value, 2)\n",
    "data_simulado = [custom_round(value) for value in data_simulado]\n",
    "\n",
    "# Valor Analitico\n",
    "data_analitico = valor_analitico(lambda_,mi_)\n",
    "\n",
    "df = pd.DataFrame({'Simulado': data_simulado, 'Analítico': data_analitico}, index=indices)\n",
    "df"
   ]
  },
  {
   "cell_type": "code",
   "execution_count": 19,
   "metadata": {},
   "outputs": [],
   "source": [
    "\n",
    "\n",
    "# Função para calcular a fração de árvores finitas usando o seu simulador\n",
    "def q1numerica(lamda, mu, numSimulacoes=60, minimoParaInfinitude=300, runs=50, max_time=2000, max_events=2000):\n",
    "    listaAmostras = []\n",
    "\n",
    "    for i in range(0, numSimulacoes):\n",
    "        # Utilizando o seu simulador para obter os resultados da simulação\n",
    "        results = simulador(lambda_=lamda, mi_=mu, tempo_total_simulacao=max_time)\n",
    "        num_chegadas = results['Total de Clientes']\n",
    "        n = results['Clientes Restantes']\n",
    "        clientes_fila = results['Fila Clientes'][0] if 0 in results['Fila Clientes'] else 0\n",
    "\n",
    "        arvoresFinitas = n\n",
    "        arvoresInfinitas = 0 if clientes_fila == 0 else 1\n",
    "\n",
    "        listaAmostras.append(arvoresFinitas / (arvoresFinitas + arvoresInfinitas))\n",
    "\n",
    "    # Tiramos a média e intervalo de confiança\n",
    "    amostras = pd.Series(listaAmostras)\n",
    "    media = amostras.mean()\n",
    "    z = 1.96\n",
    "    s = amostras.std()\n",
    "    n = numSimulacoes\n",
    "    intervalo = (media - z * (s / sqrt(n)), media + z * (s / sqrt(n)))\n",
    "\n",
    "    print(\"\\tFração de árvores finitas (resultado numérico):\", media)\n",
    "    print(\"\\tIntervalo de confiança:\", intervalo)\n"
   ]
  },
  {
   "cell_type": "code",
   "execution_count": 14,
   "metadata": {},
   "outputs": [],
   "source": [
    "results = simulador(lambda_=4, mi_=2, tempo_total_simulacao=10000)\n"
   ]
  },
  {
   "cell_type": "code",
   "execution_count": 21,
   "metadata": {},
   "outputs": [
    {
     "name": "stdout",
     "output_type": "stream",
     "text": [
      "\tFração de árvores finitas (resultado numérico): 0.9997515140758936\n",
      "\tIntervalo de confiança: (0.9997498419722083, 0.9997531861795789)\n"
     ]
    }
   ],
   "source": [
    "q1numerica(4,2)"
   ]
  }
 ],
 "metadata": {
  "kernelspec": {
   "display_name": "Python 3",
   "language": "python",
   "name": "python3"
  },
  "language_info": {
   "codemirror_mode": {
    "name": "ipython",
    "version": 3
   },
   "file_extension": ".py",
   "mimetype": "text/x-python",
   "name": "python",
   "nbconvert_exporter": "python",
   "pygments_lexer": "ipython3",
   "version": "3.9.4"
  },
  "orig_nbformat": 4
 },
 "nbformat": 4,
 "nbformat_minor": 2
}
